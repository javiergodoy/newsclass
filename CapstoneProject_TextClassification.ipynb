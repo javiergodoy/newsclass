{
  "nbformat": 4,
  "nbformat_minor": 0,
  "metadata": {
    "accelerator": "GPU",
    "colab": {
      "name": "CapstoneProject_TextClassification.ipynb",
      "provenance": [],
      "collapsed_sections": []
    },
    "kernelspec": {
      "name": "python3",
      "display_name": "Python 3"
    }
  },
  "cells": [
    {
      "cell_type": "markdown",
      "metadata": {
        "id": "AlI1gy1R2QjK",
        "colab_type": "text"
      },
      "source": [
        "# Text classification with TensorFlow and word embeddings\n",
        "\n",
        "## Evolution of word representations\n",
        "\n",
        "Classification of text documents is an important [NLP task](http://nlpprogress.com/), and NLP is one of the fastest-growing domains in Deep Learning.  To understand words, a computer needs to receive not the words as they are, but a vector of numbers it can compute over to solve a specific problem.  \n",
        "Indeed NLP refers to a set of techniques involving the application of statistical methods to understand text for the sake of solving real-world tasks.  \n",
        "\n",
        "This “understanding” of text is mainly derived by transforming texts into useable computational representations as vectors or tensors, graphs, and trees.\n",
        "\n",
        "\n",
        "Those representations have evolved during the last 30 years and particularly fast in the last ten years. \n",
        "\n",
        "Initial techniques like [Bag of Words (BoW)](https://en.wikipedia.org/wiki/Bag-of-words_model) or Or [TF-IDF (Term Frequency Inverse Document Frequency)](https://en.wikipedia.org/wiki/Tf%E2%80%93idf) do not take into account any relationship between words. They add a mathematical approach to text but could be used at document level simple tasks like document similarity, document sentiment, etc. \n",
        "\n",
        "For a more in-depth analysis of a text, we need to come up with a numerical representation of each word. Probably you are familiar with One-hot encoding, but using it with a large vocabulary is not very helpful. \n",
        "\n",
        "[Word embeddings](https://ronxin.github.io/wevi/) try to learn the statistical structure of written language and use geometric relationships between vectors as equivalent to the semantic relations of words, with great success. \n",
        "\n",
        "![embeddings](images/embeddings.png)\n",
        "\n",
        "\n",
        "> A classical example demonstrating the value of word embeddings: if we subtract the vector Man to the vector King and then we add the vector Woman, the result is the vector Queen.  \n",
        "\n",
        "While TF-IDF is an example of count-based word embeddings (they are not learned from the data but heuristically constructed, word embeddings as implemented by [Word2Vec](https://arxiv.org/abs/1301.3781) or [Glove](https://nlp.stanford.edu/projects/glove/), for example, are learned embeddings or prediction-based.  \n",
        "\n",
        "This opens the door to the use of pre-trained embeddings (using large corpora like Google News, Wikipedia, or Common Crawl) that extract features from the input (as convolutions in computer vision) and achieve excellent results with a small volume of annotated text, thanks to transfer-learning-based techniques. Then, we don’t train embeddings from scratch, we classify our data using transfer learning. \n",
        "\n",
        "## Project background\n",
        "\n",
        "A company is using commercial software for this classifying news mentioning the brand, both on the Internet and social networks. Results are weak, so they wanted to test the possibilities of an in house development. The problem is that de the Marketing department doesn’t want to invest in manual manipulation of the mentions, as that’s what the PR team is obligated to do now.\n",
        "\n",
        "We are asked to demonstrate that an efficient model could be trained without too many efforts in tagging results manually, even for the creation of the initial training dataset. If results are good and automation is possible, we will then implement the solution in production environment.\n",
        "\n",
        "## Project goals\n",
        "\n",
        "- Design, test and evaluate at least four different models for document classification\n",
        "- Demonstrate easiness in the application of models to business tasks\n",
        "- Demonstrate a minimum level of accuracy\n",
        "- Select a model for implementation\n",
        "- To test and evaluate our models, we will use a labeled data dataset so we can classify each text entry in one of these categories: business, entertainment, politics, sport, tech.\n",
        "\n",
        "The categories provided by the data set are very generic, and in some cases, could be estimated based on some kind of metadata captured with the text document when working in real-life scenarios. But the final goal is not to maintain these categories once a model is moved into production. Nor is it to use this very same dataset at its labels.\n",
        "\n",
        "Our goal at this stage is to demonstrate it is possible to get satisfactory results when training a model with a relatively small training dataset. If this hypotesis is true, a new training dataset would be created with more relevant labels, but a similar number of cases as our input.\n",
        "\n",
        "What the company is asking us to do is to invest little in manual labeling, but they are not assuming that some labeling should be done.\n",
        "Based on this perspective, the company has defined the following **acceptance criteria**:\n",
        "\n",
        " - Time for model development less than 5 weeks \n",
        " - Accuracy of the model over 90% \n",
        " - Applicability to both long and short texts \n",
        " - No manual tagging or at last no more than one person dedicated to that during the 5 weeks of development \n",
        "\n",
        "\n",
        "![workflow](images/workflow.jpg)\n",
        "\n",
        "## Project workflow\n",
        "\n",
        "1. Data loading \n",
        "2. Data Exploration\n",
        "3. Tokenization \n",
        "4. Word encoding \n",
        "5. Model design and evaluation\n",
        "6. Benchmark\n",
        "7. Recommendations\n",
        "\n",
        "In this notebook, we will cover all these steps, but we are not covering the implementation of the recommended solution that would be developed in a separate environment. \n",
        "\n"
      ]
    },
    {
      "cell_type": "markdown",
      "metadata": {
        "id": "TGfDRmWy2QjL",
        "colab_type": "text"
      },
      "source": [
        "## Step 0. Libraries and hyperparameters"
      ]
    },
    {
      "cell_type": "code",
      "metadata": {
        "colab_type": "code",
        "id": "Z2-NxJalCmbd",
        "outputId": "126c0575-1336-43e6-f213-d5e0b6a05ceb",
        "colab": {
          "base_uri": "https://localhost:8080/",
          "height": 68
        }
      },
      "source": [
        "import csv\n",
        "import tensorflow as tf\n",
        "import numpy as np\n",
        "from tensorflow.keras.preprocessing.text import Tokenizer\n",
        "from tensorflow.keras.preprocessing.sequence import pad_sequences\n",
        "import matplotlib.pyplot as plt\n",
        "import pandas as pd\n",
        "import nltk\n",
        "from nltk.corpus import stopwords\n",
        "nltk.download('stopwords')\n",
        "STOPWORDS = set(stopwords.words('english'))\n",
        "\n",
        "import tweepy\n",
        "print(tf.__version__)"
      ],
      "execution_count": 24,
      "outputs": [
        {
          "output_type": "stream",
          "text": [
            "[nltk_data] Downloading package stopwords to /root/nltk_data...\n",
            "[nltk_data]   Package stopwords is already up-to-date!\n",
            "2.2.0-rc3\n"
          ],
          "name": "stdout"
        }
      ]
    },
    {
      "cell_type": "markdown",
      "metadata": {
        "colab_type": "text",
        "id": "7CMKOly1WRkv"
      },
      "source": [
        "After importing the necessary libraries we are using for the project, we define the hyper parameters in a single cell for better adjustment in case we need to modify later"
      ]
    },
    {
      "cell_type": "code",
      "metadata": {
        "colab_type": "code",
        "id": "UG96KwASCywX",
        "colab": {}
      },
      "source": [
        "vocab_size = 5000\n",
        "embedding_dim = 64\n",
        "max_length = 200\n",
        "trunc_type = 'post'\n",
        "padding_type = 'post'\n",
        "oov_tok = '<OOV>'\n",
        "training_portion = .8"
      ],
      "execution_count": 0,
      "outputs": []
    },
    {
      "cell_type": "markdown",
      "metadata": {
        "id": "mFCrpgNx2QjW",
        "colab_type": "text"
      },
      "source": [
        "## Step 1. Load the data"
      ]
    },
    {
      "cell_type": "markdown",
      "metadata": {
        "id": "A01PwnMQ2QjY",
        "colab_type": "text"
      },
      "source": [
        "### The BBC news dataset\n",
        "\n",
        "We will use the BBC news dataset, which consists of 2225 documents from the BBC news website corresponding to stories in five topical areas from 2004-2005. Class Labels: 5 (business, entertainment, politics, sport, tech)\n",
        "\n",
        "This dataset is publicly available and relatively small, meaning if our results meet the company expectations, we will demonstrate that it could be possible, even with a small number of pre-classified documents.\n"
      ]
    },
    {
      "cell_type": "code",
      "metadata": {
        "colab_type": "code",
        "id": "-PuJnxxJC6wH",
        "outputId": "fd50e173-20c8-4b6d-ee55-f50ed8d8a86c",
        "colab": {
          "base_uri": "https://localhost:8080/",
          "height": 51
        }
      },
      "source": [
        "import csv \n",
        "articles = []\n",
        "labels = []\n",
        "\n",
        "with open(\"data/bbc-text.csv\", 'r') as csvfile:\n",
        "    reader = csv.reader(csvfile, delimiter=',')\n",
        "    next(reader)\n",
        "    for row in reader:\n",
        "        labels.append(row[0])\n",
        "        article = row[1]\n",
        "        for word in STOPWORDS:\n",
        "            token = ' ' + word + ' '\n",
        "            article = article.replace(token, ' ')\n",
        "            article = article.replace(' ', ' ')\n",
        "        articles.append(article)\n",
        "print(\"Number of Labels:{}\".format(len(labels)))\n",
        "print(\"Number of Articles:{}\".format(len(articles)))"
      ],
      "execution_count": 26,
      "outputs": [
        {
          "output_type": "stream",
          "text": [
            "Number of Labels:2225\n",
            "Number of Articles:2225\n"
          ],
          "name": "stdout"
        }
      ]
    },
    {
      "cell_type": "markdown",
      "metadata": {
        "id": "afZOpy842Qjc",
        "colab_type": "text"
      },
      "source": [
        "The BBC dataset consists of two columns we import into separate lists (articles and labels) Labels will contain the categories used to classify each text.\n",
        "\n",
        "## Step 2: Data exploration  \n",
        "\n",
        "To train our model is essential to understand the distribution of our data. As we are working with text, there is not too many statistics to look at, but one important thing: is the dataset balanced or imbalanced? If the number of cases for each label is imbalanced, it could lead to mismatched learnings as the model interprets that some features are more common in the data than others. Although results during training could be fine when dealing with real-world data, it could become a problem. "
      ]
    },
    {
      "cell_type": "code",
      "metadata": {
        "id": "7qFFzu272Qjd",
        "colab_type": "code",
        "outputId": "fe1a9309-1b01-4805-8c4e-d0edca6c70e2",
        "colab": {
          "base_uri": "https://localhost:8080/",
          "height": 119
        }
      },
      "source": [
        "df = pd.DataFrame(labels, columns=['labels'])\n",
        "df['labels'].value_counts()"
      ],
      "execution_count": 27,
      "outputs": [
        {
          "output_type": "execute_result",
          "data": {
            "text/plain": [
              "sport            511\n",
              "business         510\n",
              "politics         417\n",
              "tech             401\n",
              "entertainment    386\n",
              "Name: labels, dtype: int64"
            ]
          },
          "metadata": {
            "tags": []
          },
          "execution_count": 27
        }
      ]
    },
    {
      "cell_type": "code",
      "metadata": {
        "id": "qlVs7E8j2Qjg",
        "colab_type": "code",
        "outputId": "fc39d846-06db-4b63-bb6f-e0c21c2a0639",
        "colab": {
          "base_uri": "https://localhost:8080/",
          "height": 358
        }
      },
      "source": [
        "df.groupby('labels').labels.count().plot.bar(ylim=0)"
      ],
      "execution_count": 28,
      "outputs": [
        {
          "output_type": "execute_result",
          "data": {
            "text/plain": [
              "<matplotlib.axes._subplots.AxesSubplot at 0x7f010407da58>"
            ]
          },
          "metadata": {
            "tags": []
          },
          "execution_count": 28
        },
        {
          "output_type": "display_data",
          "data": {
            "image/png": "[encoded data removed]",
            "text/plain": [
              "<Figure size 432x288 with 1 Axes>"
            ]
          },
          "metadata": {
            "tags": [],
            "needs_background": "light"
          }
        }
      ]
    },
    {
      "cell_type": "markdown",
      "metadata": {
        "id": "KRo0xO3I2Qjk",
        "colab_type": "text"
      },
      "source": [
        "There are 2,225 news articles in the data, and labels are quite balanced. We split them into a training set and validation set, according to the parameter we set earlier, 80% for training, 20% for validation."
      ]
    },
    {
      "cell_type": "code",
      "metadata": {
        "colab_type": "code",
        "id": "TTdsh_Q0DuST",
        "outputId": "f9217bab-bd04-48d2-ff7f-5fcb2faedddb",
        "colab": {
          "base_uri": "https://localhost:8080/",
          "height": 102
        }
      },
      "source": [
        "train_size = int(len(articles) * training_portion)\n",
        "\n",
        "train_articles = articles[0: train_size]\n",
        "train_labels = labels[0: train_size]\n",
        "\n",
        "validation_articles = articles[train_size:]\n",
        "validation_labels = labels[train_size:]\n",
        "\n",
        "print(train_size)\n",
        "print(len(train_articles))\n",
        "print(len(train_labels))\n",
        "print(len(validation_articles))\n",
        "print(len(validation_labels))"
      ],
      "execution_count": 29,
      "outputs": [
        {
          "output_type": "stream",
          "text": [
            "1780\n",
            "1780\n",
            "1780\n",
            "445\n",
            "445\n"
          ],
          "name": "stdout"
        }
      ]
    },
    {
      "cell_type": "markdown",
      "metadata": {
        "id": "ll7UHPzx2Qjr",
        "colab_type": "text"
      },
      "source": [
        "## Step 3. Tokenization\n",
        "\n",
        "The tokenizer will handle the heavy lifting for us, generating the dictionary of word encodings and creating vectors out of the sentences. The first parameter demands the number of words we want to include in our dictionary and the token we want to use in case our data contains a word that it's not included in it. oov stands for Out of Vocabulary, and we'll use the common OOV defined in our hyperparameter section. You usually don't know how many unique distinct words there are in the text. So by setting this hyperparameter, what the tokenizer will do is take the top 5000 words by volume and encode those.\n",
        "\n",
        "The fit on the text method of the tokenizer then takes in the data and encodes it. The tokenizer provides a word index property that returns a dictionary containing key-value pairs, where the key is the word, and the value is the token for that word, which you can inspect by directly printing it out."
      ]
    },
    {
      "cell_type": "code",
      "metadata": {
        "colab_type": "code",
        "id": "hm2zxV3sLkYY",
        "outputId": "f8ce453f-ee56-4428-f2ae-192272b9eef2",
        "colab": {
          "base_uri": "https://localhost:8080/",
          "height": 187
        }
      },
      "source": [
        "tokenizer = Tokenizer(num_words = vocab_size, oov_token=oov_tok)\n",
        "tokenizer.fit_on_texts(train_articles)\n",
        "word_index = tokenizer.word_index\n",
        "dict(list(word_index.items())[0:10])"
      ],
      "execution_count": 30,
      "outputs": [
        {
          "output_type": "execute_result",
          "data": {
            "text/plain": [
              "{'<OOV>': 1,\n",
              " 'also': 6,\n",
              " 'mr': 3,\n",
              " 'new': 8,\n",
              " 'one': 10,\n",
              " 'people': 7,\n",
              " 'said': 2,\n",
              " 'us': 9,\n",
              " 'would': 4,\n",
              " 'year': 5}"
            ]
          },
          "metadata": {
            "tags": []
          },
          "execution_count": 30
        }
      ]
    },
    {
      "cell_type": "markdown",
      "metadata": {
        "id": "bHlYBkXk2Qjw",
        "colab_type": "text"
      },
      "source": [
        "### Sequences\n",
        "The next step will be to turn your sentences into lists of values based on these tokens. Once you have them, you'll likely also need to manipulate these lists, not least to make every sentence the same length; otherwise, it may be hard to train a neural network with them."
      ]
    },
    {
      "cell_type": "code",
      "metadata": {
        "colab_type": "code",
        "id": "UQJpb0mbLkj5",
        "outputId": "ef8015d8-c411-40e7-f0da-3f07ecbb7732",
        "colab": {
          "base_uri": "https://localhost:8080/",
          "height": 54
        }
      },
      "source": [
        "train_sequences = tokenizer.texts_to_sequences(train_articles)\n",
        "print(train_sequences[10])"
      ],
      "execution_count": 31,
      "outputs": [
        {
          "output_type": "stream",
          "text": [
            "[2432, 1, 225, 4996, 22, 642, 587, 225, 4996, 1, 1, 1663, 1, 1, 2432, 22, 565, 1, 1, 140, 278, 1, 140, 278, 796, 822, 662, 2308, 1, 1144, 1694, 1, 1721, 4997, 1, 1, 1, 1, 1, 4738, 1, 1, 122, 4515, 1, 2, 2874, 1506, 352, 4739, 1, 52, 341, 1, 352, 2173, 3961, 41, 22, 3793, 1, 1, 1, 1, 543, 1, 1, 1, 835, 631, 2367, 347, 4740, 1, 365, 22, 1, 787, 2368, 1, 4302, 138, 10, 1, 3664, 682, 3531, 1, 22, 1, 414, 822, 662, 1, 90, 13, 633, 1, 225, 4996, 1, 600, 1, 1694, 1021, 1, 4998, 807, 1864, 117, 1, 1, 1, 2974, 22, 1, 99, 278, 1, 1608, 4999, 543, 492, 1, 1444, 4741, 778, 1320, 1, 1861, 10, 33, 642, 319, 1, 62, 478, 565, 301, 1507, 22, 479, 1, 1, 1666, 1, 797, 1, 3067, 1, 1365, 6, 1, 2432, 565, 22, 2971, 4735, 1, 1, 1, 1, 1, 850, 39, 1825, 675, 297, 26, 979, 1, 882, 22, 361, 22, 13, 301, 1507, 1343, 374, 20, 63, 883, 1096, 4303, 247]\n"
          ],
          "name": "stdout"
        }
      ]
    },
    {
      "cell_type": "markdown",
      "metadata": {
        "id": "BzT0ZY9-2Qj0",
        "colab_type": "text"
      },
      "source": [
        "### Padding \n",
        "Once the tokenizer has created the sequences, these sequences can be passed to pad sequences to have them padded. The result is that the list of sentences has been padded out into a matrix and that each row in the matrix has the same length. The parameters trunc_type = 'post' and padding_type = 'post' defines that the extra number of zeros added to convert all sentences to the same length, will appear after the sentence and not before."
      ]
    },
    {
      "cell_type": "code",
      "metadata": {
        "colab_type": "code",
        "id": "EpDG0kJ_Lkmx",
        "outputId": "ff8f1dc6-fac0-4ebe-9c80-f393495120dc",
        "colab": {
          "base_uri": "https://localhost:8080/",
          "height": 119
        }
      },
      "source": [
        "train_padded = pad_sequences(train_sequences, maxlen=max_length, padding=padding_type, truncating=trunc_type)\n",
        "print(len(train_sequences[0]))\n",
        "print(len(train_padded[0]))\n",
        "\n",
        "print(len(train_sequences[1]))\n",
        "print(len(train_padded[1]))\n",
        "\n",
        "print(len(train_sequences[10]))\n",
        "print(len(train_padded[10]))"
      ],
      "execution_count": 32,
      "outputs": [
        {
          "output_type": "stream",
          "text": [
            "425\n",
            "200\n",
            "192\n",
            "200\n",
            "186\n",
            "200\n"
          ],
          "name": "stdout"
        }
      ]
    },
    {
      "cell_type": "code",
      "metadata": {
        "colab_type": "code",
        "id": "q1m-CkY8LkpT",
        "outputId": "f1f9b0ca-5c6b-4f44-e0a1-fb1494e2e838",
        "colab": {
          "base_uri": "https://localhost:8080/",
          "height": 272
        }
      },
      "source": [
        "print(train_padded[10])"
      ],
      "execution_count": 33,
      "outputs": [
        {
          "output_type": "stream",
          "text": [
            "[2432    1  225 4996   22  642  587  225 4996    1    1 1663    1    1\n",
            " 2432   22  565    1    1  140  278    1  140  278  796  822  662 2308\n",
            "    1 1144 1694    1 1721 4997    1    1    1    1    1 4738    1    1\n",
            "  122 4515    1    2 2874 1506  352 4739    1   52  341    1  352 2173\n",
            " 3961   41   22 3793    1    1    1    1  543    1    1    1  835  631\n",
            " 2367  347 4740    1  365   22    1  787 2368    1 4302  138   10    1\n",
            " 3664  682 3531    1   22    1  414  822  662    1   90   13  633    1\n",
            "  225 4996    1  600    1 1694 1021    1 4998  807 1864  117    1    1\n",
            "    1 2974   22    1   99  278    1 1608 4999  543  492    1 1444 4741\n",
            "  778 1320    1 1861   10   33  642  319    1   62  478  565  301 1507\n",
            "   22  479    1    1 1666    1  797    1 3067    1 1365    6    1 2432\n",
            "  565   22 2971 4735    1    1    1    1    1  850   39 1825  675  297\n",
            "   26  979    1  882   22  361   22   13  301 1507 1343  374   20   63\n",
            "  883 1096 4303  247    0    0    0    0    0    0    0    0    0    0\n",
            "    0    0    0    0]\n"
          ],
          "name": "stdout"
        }
      ]
    },
    {
      "cell_type": "markdown",
      "metadata": {
        "id": "uouWo6l02Qj7",
        "colab_type": "text"
      },
      "source": [
        "We do the same with validation segment and of course with labels"
      ]
    },
    {
      "cell_type": "code",
      "metadata": {
        "colab_type": "code",
        "id": "sfRwbfnjLkuT",
        "outputId": "9dab5572-55ee-49ec-a974-6d718c9f9f11",
        "colab": {
          "base_uri": "https://localhost:8080/",
          "height": 51
        }
      },
      "source": [
        "validation_sequences = tokenizer.texts_to_sequences(validation_articles)\n",
        "validation_padded = pad_sequences(validation_sequences, maxlen=max_length, padding=padding_type, truncating=trunc_type)\n",
        "\n",
        "print(len(validation_sequences))\n",
        "print(validation_padded.shape)"
      ],
      "execution_count": 34,
      "outputs": [
        {
          "output_type": "stream",
          "text": [
            "445\n",
            "(445, 200)\n"
          ],
          "name": "stdout"
        }
      ]
    },
    {
      "cell_type": "code",
      "metadata": {
        "colab_type": "code",
        "id": "hWKP3xq_Lkxd",
        "outputId": "aa22b49b-320f-4cf3-a217-d0c9b1ed7a34",
        "colab": {
          "base_uri": "https://localhost:8080/",
          "height": 153
        }
      },
      "source": [
        "label_tokenizer = Tokenizer()\n",
        "label_tokenizer.fit_on_texts(labels)\n",
        "\n",
        "training_label_seq = np.array(label_tokenizer.texts_to_sequences(train_labels))\n",
        "validation_label_seq = np.array(label_tokenizer.texts_to_sequences(validation_labels))\n",
        "print(training_label_seq[0])\n",
        "print(training_label_seq[1])\n",
        "print(training_label_seq[2])\n",
        "print(training_label_seq.shape)\n",
        "\n",
        "print(validation_label_seq[0])\n",
        "print(validation_label_seq[1])\n",
        "print(validation_label_seq[2])\n",
        "print(validation_label_seq.shape)"
      ],
      "execution_count": 35,
      "outputs": [
        {
          "output_type": "stream",
          "text": [
            "[4]\n",
            "[2]\n",
            "[1]\n",
            "(1780, 1)\n",
            "[5]\n",
            "[4]\n",
            "[3]\n",
            "(445, 1)\n"
          ],
          "name": "stdout"
        }
      ]
    },
    {
      "cell_type": "markdown",
      "metadata": {
        "id": "XLJzfPmo2QkC",
        "colab_type": "text"
      },
      "source": [
        "## Step 4: Word encoding.\n",
        "\n",
        "![word2vec](images/word2vec.png)\n",
        "\n",
        "Word Embeddings encode the relationships between words through vector representations of the words. These word vectors are analogous to the meaning of the word, but the limitation of word embeddings are that must have been seen in the training data before, to have an embedding.  \n",
        "\n",
        "As an example, this text contains several OOV tokens where our dictionary didn't find an equivalent.\n",
        "Of course, you can create a more significant dictionary, but taking into account that sometimes the impact of fewer words can be minimal in training accuracy, but huge in training time. We can experiment but using it carefully.  \n",
        "\n",
        "For this project, we will use the same vocab_size in all the models, while testing the effect of pre-trained embeddings, as we will see soon. "
      ]
    },
    {
      "cell_type": "code",
      "metadata": {
        "colab_type": "code",
        "id": "EdJN_oLLLksY",
        "outputId": "5ae69f8f-8f1e-4316-a17a-2688c43557f3",
        "colab": {
          "base_uri": "https://localhost:8080/",
          "height": 88
        }
      },
      "source": [
        "reverse_word_index = dict([(value, key) for (key, value) in word_index.items()])\n",
        "\n",
        "def decode_article(text):\n",
        "    return ' '.join([reverse_word_index.get(i, '?') for i in text])\n",
        "print(decode_article(train_padded[10]))\n",
        "print('---')\n",
        "print(train_articles[10])"
      ],
      "execution_count": 36,
      "outputs": [
        {
          "output_type": "stream",
          "text": [
            "berlin <OOV> anti nazi film german movie anti nazi <OOV> <OOV> drawn <OOV> <OOV> berlin film festival <OOV> <OOV> final days <OOV> final days member white rose movement <OOV> 21 arrested <OOV> brother hans <OOV> <OOV> <OOV> <OOV> <OOV> tyranny <OOV> <OOV> director marc <OOV> said feeling responsibility keep legacy <OOV> going must <OOV> keep ideas alive added film drew <OOV> <OOV> <OOV> <OOV> trial <OOV> <OOV> <OOV> east germany secret police discovery <OOV> behind film <OOV> worked closely <OOV> relatives including one <OOV> sisters ensure historical <OOV> film <OOV> members white rose <OOV> group first started <OOV> anti nazi <OOV> summer <OOV> arrested dropped <OOV> munich university calling day <OOV> <OOV> <OOV> regime film <OOV> six days <OOV> arrest intense trial saw <OOV> initially deny charges ended <OOV> appearance one three german films <OOV> top prize festival south african film version <OOV> <OOV> opera <OOV> shot <OOV> town <OOV> language also <OOV> berlin festival film entitled u <OOV> <OOV> <OOV> <OOV> <OOV> story set performed 40 strong music theatre <OOV> debut film performance film first south african feature 25 years second nominated golden bear award ? ? ? ? ? ? ? ? ? ? ? ? ? ?\n",
            "---\n",
            "berlin cheers anti-nazi film german movie anti-nazi resistance heroine drawn loud applause berlin film festival.  sophie scholl - final days portrays final days member white rose movement. scholl  21  arrested beheaded brother  hans  1943 distributing leaflets condemning  abhorrent tyranny  adolf hitler. director marc rothemund said:  feeling responsibility keep legacy scholls going.   must somehow keep ideas alive   added.  film drew transcripts gestapo interrogations scholl trial preserved archive communist east germany secret police. discovery inspiration behind film rothemund  worked closely surviving relatives  including one scholl sisters  ensure historical accuracy film. scholl members white rose resistance group first started distributing anti-nazi leaflets summer 1942. arrested dropped leaflets munich university calling  day reckoning  adolf hitler regime. film focuses six days scholl arrest intense trial saw scholl initially deny charges ended defiant appearance. one three german films vying top prize festival.  south african film version bizet tragic opera carmen shot cape town xhosa language also premiered berlin festival. film entitled u-carmen ekhayelitsha carmen khayelitsha township story set. performed 40-strong music theatre troupe debut film performance. film first south african feature 25 years second nominated golden bear award.\n"
          ],
          "name": "stdout"
        }
      ]
    },
    {
      "cell_type": "markdown",
      "metadata": {
        "id": "54TbpkRhmlHg",
        "colab_type": "text"
      },
      "source": [
        "## Step 5. Model design"
      ]
    },
    {
      "cell_type": "markdown",
      "metadata": {
        "colab_type": "text",
        "id": "g6Pg6x7Gc9SB"
      },
      "source": [
        "## Model 1 - Bidirectional LSTM + embedding\n",
        "\n",
        "Dense layers treat each word in the input sequence separately, without considering inter-word relationships and sentence structure. It's much better to add recurrent layers or 1D convolutional layers on top of the embedded sequences to learn features that take into account each sequence as a whole.\n",
        "\n",
        "**LSTM** ([Long Short-Term Memory](https://colah.github.io/posts/2015-08-Understanding-LSTMs/)) is a type of recurrent layer frequently used in models with sequence data (as text). They provide enough \"memory\" for the task, without incurring in the [vanishing gradient problem](https://en.wikipedia.org/wiki/Vanishing_gradient_problem) as simple RNNs. \n",
        "\n",
        "**Bidirectional** layers increase the effectiveness of LSTM, propagating the input forward and backward through the LSTM layer and then concatenating the outputs.\n",
        "\n",
        "**Word embeddings** are meant to map human language into a geometric space. The geometric relationships between word vectors should reflect the semantic relationships between these words, and those relationships are learned in the same way it learns the weights of the neural network.\n",
        "\n",
        "So, our baseline model will be this and will test other architectures while keeping the **activation function** as softmax, because we are using a multiclass classification and **Loss function** as sparse_categorical_crossentropy instead of categorical_crossentropy as we use integer labels.\n",
        "\n",
        "\n",
        "  \n",
        "   "
      ]
    },
    {
      "cell_type": "code",
      "metadata": {
        "colab_type": "code",
        "id": "50B53PRcL2jK",
        "outputId": "c5cb5de6-3b2f-4980-c881-21420f8dfbe4",
        "colab": {
          "base_uri": "https://localhost:8080/",
          "height": 289
        }
      },
      "source": [
        "LSTM = tf.keras.Sequential([\n",
        "    # Add an Embedding layer\n",
        "    tf.keras.layers.Embedding(vocab_size, embedding_dim),\n",
        "    #Bidirectional and LSTM \n",
        "    tf.keras.layers.Bidirectional(tf.keras.layers.LSTM(embedding_dim, dropout=0.2)),\n",
        "    # use ReLU as activation\n",
        "    tf.keras.layers.Dense(embedding_dim, activation='relu'),\n",
        "    # Softmax convert outputs layers into a probability distribution.\n",
        "    tf.keras.layers.Dense(6, activation='softmax')\n",
        "])\n",
        "LSTM.summary()"
      ],
      "execution_count": 37,
      "outputs": [
        {
          "output_type": "stream",
          "text": [
            "Model: \"sequential\"\n",
            "_________________________________________________________________\n",
            "Layer (type)                 Output Shape              Param #   \n",
            "=================================================================\n",
            "embedding (Embedding)        (None, None, 64)          320000    \n",
            "_________________________________________________________________\n",
            "bidirectional (Bidirectional (None, 128)               66048     \n",
            "_________________________________________________________________\n",
            "dense (Dense)                (None, 64)                8256      \n",
            "_________________________________________________________________\n",
            "dense_1 (Dense)              (None, 6)                 390       \n",
            "=================================================================\n",
            "Total params: 394,694\n",
            "Trainable params: 394,694\n",
            "Non-trainable params: 0\n",
            "_________________________________________________________________\n"
          ],
          "name": "stdout"
        }
      ]
    },
    {
      "cell_type": "code",
      "metadata": {
        "colab_type": "code",
        "id": "-L-RCIpPL2tw",
        "outputId": "44e81f65-9f2c-4e78-c6c2-dfea7aac0c69",
        "colab": {
          "base_uri": "https://localhost:8080/",
          "height": 357
        }
      },
      "source": [
        "LSTM.compile(loss='sparse_categorical_crossentropy', optimizer='adam', metrics=['accuracy'])\n",
        "num_epochs = 10\n",
        "history = LSTM.fit(train_padded, training_label_seq, epochs=num_epochs, validation_data=(validation_padded, validation_label_seq), verbose=2)"
      ],
      "execution_count": 38,
      "outputs": [
        {
          "output_type": "stream",
          "text": [
            "Epoch 1/10\n",
            "56/56 - 2s - loss: 1.5797 - accuracy: 0.3112 - val_loss: 1.3442 - val_accuracy: 0.4809\n",
            "Epoch 2/10\n",
            "56/56 - 1s - loss: 1.0603 - accuracy: 0.5787 - val_loss: 0.8063 - val_accuracy: 0.6652\n",
            "Epoch 3/10\n",
            "56/56 - 1s - loss: 0.7203 - accuracy: 0.7320 - val_loss: 0.4838 - val_accuracy: 0.8404\n",
            "Epoch 4/10\n",
            "56/56 - 1s - loss: 0.2678 - accuracy: 0.9225 - val_loss: 0.2185 - val_accuracy: 0.9303\n",
            "Epoch 5/10\n",
            "56/56 - 1s - loss: 0.1103 - accuracy: 0.9691 - val_loss: 0.3975 - val_accuracy: 0.8831\n",
            "Epoch 6/10\n",
            "56/56 - 1s - loss: 0.0434 - accuracy: 0.9916 - val_loss: 0.2110 - val_accuracy: 0.9393\n",
            "Epoch 7/10\n",
            "56/56 - 1s - loss: 0.0169 - accuracy: 0.9961 - val_loss: 0.1498 - val_accuracy: 0.9596\n",
            "Epoch 8/10\n",
            "56/56 - 1s - loss: 0.0090 - accuracy: 0.9978 - val_loss: 0.1769 - val_accuracy: 0.9573\n",
            "Epoch 9/10\n",
            "56/56 - 1s - loss: 0.0257 - accuracy: 0.9933 - val_loss: 0.2926 - val_accuracy: 0.9213\n",
            "Epoch 10/10\n",
            "56/56 - 1s - loss: 0.0143 - accuracy: 0.9972 - val_loss: 0.1684 - val_accuracy: 0.9551\n"
          ],
          "name": "stdout"
        }
      ]
    },
    {
      "cell_type": "code",
      "metadata": {
        "colab_type": "code",
        "id": "0SsSI5hsMALa",
        "colab": {
          "base_uri": "https://localhost:8080/",
          "height": 541
        },
        "outputId": "10036312-db7d-4d85-e5f6-5f363bab8867"
      },
      "source": [
        "def plot_graphs(history, string):\n",
        "  plt.plot(history.history[string])\n",
        "  plt.plot(history.history['val_'+string])\n",
        "  plt.xlabel(\"Epochs\")\n",
        "  plt.ylabel(string)\n",
        "  plt.legend([string, 'val_'+string])\n",
        "  plt.show()\n",
        "  \n",
        "plot_graphs(history, \"accuracy\")\n",
        "plot_graphs(history, \"loss\")"
      ],
      "execution_count": 39,
      "outputs": [
        {
          "output_type": "display_data",
          "data": {
            "image/png": "[encoded data removed]",
            "text/plain": [
              "<Figure size 432x288 with 1 Axes>"
            ]
          },
          "metadata": {
            "tags": [],
            "needs_background": "light"
          }
        },
        {
          "output_type": "display_data",
          "data": {
            "image/png": "[encoded data removed]",
            "text/plain": [
              "<Figure size 432x288 with 1 Axes>"
            ]
          },
          "metadata": {
            "tags": [],
            "needs_background": "light"
          }
        }
      ]
    },
    {
      "cell_type": "markdown",
      "metadata": {
        "id": "nPK7vSFA-CNL",
        "colab_type": "text"
      },
      "source": [
        "The model quickly starts overfitting, and validation accuracy has a high variance for the same reason, but even then, we got to 93%. We probably don't need more than 3-4 epochs to get satisfactory results"
      ]
    },
    {
      "cell_type": "markdown",
      "metadata": {
        "colab_type": "text",
        "id": "mGp5pgx_dlwJ"
      },
      "source": [
        "## Model 2 - Conv1D + Pooling + Embedding\n",
        "\n",
        "Now we try with convolutions. 1D convolution layers can recognize local patterns in a sequence. It should be able to learn words or word fragments and recognize these words in any context in an input sequence. \n",
        "\n"
      ]
    },
    {
      "cell_type": "code",
      "metadata": {
        "colab_type": "code",
        "id": "4qcEMhCJWNoc",
        "colab": {
          "base_uri": "https://localhost:8080/",
          "height": 323
        },
        "outputId": "6720104d-d591-41d8-b17e-6b7c0a7b7e61"
      },
      "source": [
        "# Model Definition with Conv1D\n",
        "CONV1D = tf.keras.Sequential([\n",
        "    tf.keras.layers.Embedding(vocab_size, embedding_dim),\n",
        "    tf.keras.layers.Conv1D(128, 5, activation='relu'),\n",
        "    tf.keras.layers.MaxPool1D(pool_size=4),\n",
        "     tf.keras.layers.Bidirectional(tf.keras.layers.LSTM(embedding_dim, dropout=0.2)),\n",
        "    tf.keras.layers.Dense(6, activation='softmax')\n",
        "])\n",
        "CONV1D.compile(loss='binary_crossentropy',optimizer='adam',metrics=['accuracy'])\n",
        "CONV1D.summary()"
      ],
      "execution_count": 40,
      "outputs": [
        {
          "output_type": "stream",
          "text": [
            "Model: \"sequential_1\"\n",
            "_________________________________________________________________\n",
            "Layer (type)                 Output Shape              Param #   \n",
            "=================================================================\n",
            "embedding_1 (Embedding)      (None, None, 64)          320000    \n",
            "_________________________________________________________________\n",
            "conv1d (Conv1D)              (None, None, 128)         41088     \n",
            "_________________________________________________________________\n",
            "max_pooling1d (MaxPooling1D) (None, None, 128)         0         \n",
            "_________________________________________________________________\n",
            "bidirectional_1 (Bidirection (None, 128)               98816     \n",
            "_________________________________________________________________\n",
            "dense_2 (Dense)              (None, 6)                 774       \n",
            "=================================================================\n",
            "Total params: 460,678\n",
            "Trainable params: 460,678\n",
            "Non-trainable params: 0\n",
            "_________________________________________________________________\n"
          ],
          "name": "stdout"
        }
      ]
    },
    {
      "cell_type": "code",
      "metadata": {
        "colab_type": "code",
        "id": "19M9ZntWd8un",
        "colab": {
          "base_uri": "https://localhost:8080/",
          "height": 357
        },
        "outputId": "3301f93c-1b9c-49e2-bbef-84641c836e0c"
      },
      "source": [
        "CONV1D.compile(loss='sparse_categorical_crossentropy', optimizer='adam', metrics=['accuracy'])\n",
        "num_epochs = 10\n",
        "history = CONV1D.fit(train_padded, training_label_seq, epochs=num_epochs, validation_data=(validation_padded, validation_label_seq), verbose=2)"
      ],
      "execution_count": 41,
      "outputs": [
        {
          "output_type": "stream",
          "text": [
            "Epoch 1/10\n",
            "56/56 - 2s - loss: 1.4811 - accuracy: 0.3449 - val_loss: 1.0442 - val_accuracy: 0.5461\n",
            "Epoch 2/10\n",
            "56/56 - 1s - loss: 0.5879 - accuracy: 0.7938 - val_loss: 0.3169 - val_accuracy: 0.8831\n",
            "Epoch 3/10\n",
            "56/56 - 1s - loss: 0.1547 - accuracy: 0.9489 - val_loss: 0.2278 - val_accuracy: 0.9303\n",
            "Epoch 4/10\n",
            "56/56 - 1s - loss: 0.0280 - accuracy: 0.9949 - val_loss: 0.1730 - val_accuracy: 0.9528\n",
            "Epoch 5/10\n",
            "56/56 - 1s - loss: 0.0120 - accuracy: 0.9983 - val_loss: 0.2055 - val_accuracy: 0.9438\n",
            "Epoch 6/10\n",
            "56/56 - 1s - loss: 0.0045 - accuracy: 1.0000 - val_loss: 0.2072 - val_accuracy: 0.9438\n",
            "Epoch 7/10\n",
            "56/56 - 1s - loss: 0.0030 - accuracy: 1.0000 - val_loss: 0.2302 - val_accuracy: 0.9438\n",
            "Epoch 8/10\n",
            "56/56 - 1s - loss: 0.0034 - accuracy: 0.9994 - val_loss: 0.2425 - val_accuracy: 0.9438\n",
            "Epoch 9/10\n",
            "56/56 - 1s - loss: 0.0017 - accuracy: 1.0000 - val_loss: 0.2551 - val_accuracy: 0.9461\n",
            "Epoch 10/10\n",
            "56/56 - 1s - loss: 0.0013 - accuracy: 1.0000 - val_loss: 0.2519 - val_accuracy: 0.9461\n"
          ],
          "name": "stdout"
        }
      ]
    },
    {
      "cell_type": "code",
      "metadata": {
        "colab_type": "code",
        "id": "qiPExjYcfA5P",
        "colab": {
          "base_uri": "https://localhost:8080/",
          "height": 541
        },
        "outputId": "a98fff2f-90b5-44d3-f7c5-b28490305356"
      },
      "source": [
        "def plot_graphs(history, string):\n",
        "  plt.plot(history.history[string])\n",
        "  plt.plot(history.history['val_'+string])\n",
        "  plt.xlabel(\"Epochs\")\n",
        "  plt.ylabel(string)\n",
        "  plt.legend([string, 'val_'+string])\n",
        "  plt.show()\n",
        "  \n",
        "plot_graphs(history, \"accuracy\")\n",
        "plot_graphs(history, \"loss\")"
      ],
      "execution_count": 42,
      "outputs": [
        {
          "output_type": "display_data",
          "data": {
            "image/png": "[encoded data removed]",
            "text/plain": [
              "<Figure size 432x288 with 1 Axes>"
            ]
          },
          "metadata": {
            "tags": [],
            "needs_background": "light"
          }
        },
        {
          "output_type": "display_data",
          "data": {
            "image/png": "[encoded data removed]",
            "text/plain": [
              "<Figure size 432x288 with 1 Axes>"
            ]
          },
          "metadata": {
            "tags": [],
            "needs_background": "light"
          }
        }
      ]
    },
    {
      "cell_type": "markdown",
      "metadata": {
        "id": "fqVJObbwZxJw",
        "colab_type": "text"
      },
      "source": [
        "The model is overffiting very fast and although validation accuracy seems to improve we need to check with real cases how does it perform."
      ]
    },
    {
      "cell_type": "markdown",
      "metadata": {
        "colab_type": "text",
        "id": "RZO5oRgJVTPU"
      },
      "source": [
        "## Model 3 - Covid1D + Pooling + Glove 100d\n",
        "\n",
        "In previous models, we started with an embedding layer of random vectors and learned the appropriate structure in the context of our task (news classification). Now we will use a vector learned in the context of a different task. \n",
        "\n",
        "This approach can be helpful if we have little training data, and that's the core of what we are trying to validate with this project: that we can get good results without investing in a big labeling project. \n",
        "\n",
        "In this case, we will use Glove as our pre-trained word vector, and the 100 dimension file (glove.6B.100d.txt) \n",
        "\n",
        "We hypothesize that even if the vectors are not directly related to our task, it can improve our model, adding an extensive collection of words and semantic relationships. \n",
        "\n",
        "We keep trainable as False and maintain the rest of the model parameters equal. \n",
        "\n"
      ]
    },
    {
      "cell_type": "code",
      "metadata": {
        "colab_type": "code",
        "id": "uaJsyR_-gufh",
        "colab": {
          "base_uri": "https://localhost:8080/",
          "height": 34
        },
        "outputId": "adedc468-e379-4a4e-823e-d2c8159dfd13"
      },
      "source": [
        "# first we import and process the glove file and check number of word vectors\n",
        "import os\n",
        "GLOVE_DIR = 'data/glove/'\n",
        "embeddings_index = {}\n",
        "f = open(os.path.join(GLOVE_DIR, 'glove.6B.100d.txt'))\n",
        "for line in f:\n",
        "    values = line.split()\n",
        "    word = values[0]\n",
        "    coefs = np.asarray(values[1:], dtype='float32')\n",
        "    embeddings_index[word] = coefs\n",
        "f.close()\n",
        "\n",
        "print('Found %s word vectors.' % len(embeddings_index))"
      ],
      "execution_count": 43,
      "outputs": [
        {
          "output_type": "stream",
          "text": [
            "Found 400001 word vectors.\n"
          ],
          "name": "stdout"
        }
      ]
    },
    {
      "cell_type": "code",
      "metadata": {
        "colab_type": "code",
        "id": "s4h62KSDvIUW",
        "colab": {}
      },
      "source": [
        "# TensorFlow must receive the embedding as a marix that we process here\n",
        "embedding_dim = 100\n",
        "embedding_matrix = np.zeros((vocab_size, embedding_dim))\n",
        "for word, i in word_index.items():\n",
        "    if i < vocab_size:\n",
        "        embedding_vector = embeddings_index.get(word)\n",
        "        if embedding_vector is not None:\n",
        "            embedding_matrix[i] = embedding_vector"
      ],
      "execution_count": 0,
      "outputs": []
    },
    {
      "cell_type": "code",
      "metadata": {
        "id": "rB36FEqnx4G5",
        "colab_type": "code",
        "colab": {
          "base_uri": "https://localhost:8080/",
          "height": 323
        },
        "outputId": "a635c559-822f-47c2-9fbf-462d8230bd81"
      },
      "source": [
        "# Model Definition with Conv1D\n",
        "CONV1D_GLOVE_100 = tf.keras.Sequential([\n",
        "    tf.keras.layers.Embedding(vocab_size, embedding_dim, weights=[embedding_matrix],trainable = False ),\n",
        "    tf.keras.layers.Conv1D(128, 5, activation='relu'),\n",
        "    tf.keras.layers.MaxPool1D(pool_size=4),\n",
        "    tf.keras.layers.Bidirectional(tf.keras.layers.LSTM(embedding_dim, dropout=0.2)),\n",
        "    tf.keras.layers.Dense(6, activation='softmax')\n",
        "])\n",
        "CONV1D_GLOVE_100.compile(loss='binary_crossentropy',optimizer='adam',metrics=['accuracy'])\n",
        "CONV1D_GLOVE_100.summary()"
      ],
      "execution_count": 73,
      "outputs": [
        {
          "output_type": "stream",
          "text": [
            "Model: \"sequential_4\"\n",
            "_________________________________________________________________\n",
            "Layer (type)                 Output Shape              Param #   \n",
            "=================================================================\n",
            "embedding_4 (Embedding)      (None, None, 300)         1500000   \n",
            "_________________________________________________________________\n",
            "conv1d_3 (Conv1D)            (None, None, 128)         192128    \n",
            "_________________________________________________________________\n",
            "max_pooling1d_3 (MaxPooling1 (None, None, 128)         0         \n",
            "_________________________________________________________________\n",
            "bidirectional_4 (Bidirection (None, 600)               1029600   \n",
            "_________________________________________________________________\n",
            "dense_5 (Dense)              (None, 6)                 3606      \n",
            "=================================================================\n",
            "Total params: 2,725,334\n",
            "Trainable params: 1,225,334\n",
            "Non-trainable params: 1,500,000\n",
            "_________________________________________________________________\n"
          ],
          "name": "stdout"
        }
      ]
    },
    {
      "cell_type": "code",
      "metadata": {
        "id": "zSTRzslyyS47",
        "colab_type": "code",
        "colab": {
          "base_uri": "https://localhost:8080/",
          "height": 357
        },
        "outputId": "8b770f6e-ec52-45f3-864a-3a3b86a6d929"
      },
      "source": [
        "CONV1D_GLOVE_100.compile(loss='sparse_categorical_crossentropy', optimizer='adam', metrics=['accuracy'])\n",
        "num_epochs = 10\n",
        "history = CONV1D_GLOVE_100.fit(train_padded, training_label_seq, epochs=num_epochs, validation_data=(validation_padded, validation_label_seq), verbose=2)"
      ],
      "execution_count": 75,
      "outputs": [
        {
          "output_type": "stream",
          "text": [
            "Epoch 1/10\n",
            "56/56 - 2s - loss: 0.4931 - accuracy: 0.8157 - val_loss: 0.1465 - val_accuracy: 0.9551\n",
            "Epoch 2/10\n",
            "56/56 - 1s - loss: 0.0923 - accuracy: 0.9697 - val_loss: 0.1021 - val_accuracy: 0.9618\n",
            "Epoch 3/10\n",
            "56/56 - 1s - loss: 0.0679 - accuracy: 0.9753 - val_loss: 0.1083 - val_accuracy: 0.9708\n",
            "Epoch 4/10\n",
            "56/56 - 1s - loss: 0.0474 - accuracy: 0.9871 - val_loss: 0.1280 - val_accuracy: 0.9640\n",
            "Epoch 5/10\n",
            "56/56 - 1s - loss: 0.0249 - accuracy: 0.9927 - val_loss: 0.1039 - val_accuracy: 0.9685\n",
            "Epoch 6/10\n",
            "56/56 - 1s - loss: 0.0069 - accuracy: 0.9994 - val_loss: 0.0915 - val_accuracy: 0.9775\n",
            "Epoch 7/10\n",
            "56/56 - 1s - loss: 0.0033 - accuracy: 0.9989 - val_loss: 0.1353 - val_accuracy: 0.9663\n",
            "Epoch 8/10\n",
            "56/56 - 1s - loss: 0.0028 - accuracy: 0.9989 - val_loss: 0.1054 - val_accuracy: 0.9685\n",
            "Epoch 9/10\n",
            "56/56 - 1s - loss: 5.0607e-04 - accuracy: 1.0000 - val_loss: 0.1177 - val_accuracy: 0.9730\n",
            "Epoch 10/10\n",
            "56/56 - 1s - loss: 2.5248e-04 - accuracy: 1.0000 - val_loss: 0.1204 - val_accuracy: 0.9730\n"
          ],
          "name": "stdout"
        }
      ]
    },
    {
      "cell_type": "code",
      "metadata": {
        "id": "PfuzG1N-ykTe",
        "colab_type": "code",
        "colab": {
          "base_uri": "https://localhost:8080/",
          "height": 541
        },
        "outputId": "b9a01e44-3861-4807-d838-66eef17ac557"
      },
      "source": [
        "def plot_graphs(history, string):\n",
        "  plt.plot(history.history[string])\n",
        "  plt.plot(history.history['val_'+string])\n",
        "  plt.xlabel(\"Epochs\")\n",
        "  plt.ylabel(string)\n",
        "  plt.legend([string, 'val_'+string])\n",
        "  plt.show()\n",
        "  \n",
        "plot_graphs(history, \"accuracy\")\n",
        "plot_graphs(history, \"loss\")"
      ],
      "execution_count": 76,
      "outputs": [
        {
          "output_type": "display_data",
          "data": {
            "image/png": "[encoded data removed]",
            "text/plain": [
              "<Figure size 432x288 with 1 Axes>"
            ]
          },
          "metadata": {
            "tags": [],
            "needs_background": "light"
          }
        },
        {
          "output_type": "display_data",
          "data": {
            "image/png": "[encoded data removed]",
            "text/plain": [
              "<Figure size 432x288 with 1 Axes>"
            ]
          },
          "metadata": {
            "tags": [],
            "needs_background": "light"
          }
        }
      ]
    },
    {
      "cell_type": "markdown",
      "metadata": {
        "id": "r9FRuIZeFaeC",
        "colab_type": "text"
      },
      "source": [
        "\n",
        "Overffting seems to adjust, and accuracy levels remain high."
      ]
    },
    {
      "cell_type": "markdown",
      "metadata": {
        "colab_type": "text",
        "id": "ZOKSm-EzVWrO"
      },
      "source": [
        "## Model 4 - Covid1D + Pooling + Glove 300d\n",
        "\n",
        "For our last model, we recover our LSTM structure but try with a more sophisticated word vector that now has 300 dimensions"
      ]
    },
    {
      "cell_type": "code",
      "metadata": {
        "colab_type": "code",
        "id": "h1Pfw1nHVZKC",
        "colab": {
          "base_uri": "https://localhost:8080/",
          "height": 34
        },
        "outputId": "38ad13bf-0e67-40bd-b22c-120153c4bafe"
      },
      "source": [
        "#same process as with previous model, we change the glove file\n",
        "GLOVE_DIR = 'data/glove/'\n",
        "embeddings_index = {}\n",
        "f = open(os.path.join(GLOVE_DIR, 'glove.6B.300d.txt'))\n",
        "for line in f:\n",
        "    values = line.split()\n",
        "    word = values[0]\n",
        "    coefs = np.asarray(values[1:], dtype='float32')\n",
        "    embeddings_index[word] = coefs\n",
        "f.close()\n",
        "\n",
        "print('Found %s word vectors.' % len(embeddings_index))"
      ],
      "execution_count": 48,
      "outputs": [
        {
          "output_type": "stream",
          "text": [
            "Found 400001 word vectors.\n"
          ],
          "name": "stdout"
        }
      ]
    },
    {
      "cell_type": "code",
      "metadata": {
        "colab_type": "code",
        "id": "bkTjFcOMViz-",
        "colab": {}
      },
      "source": [
        "embedding_dim = 300\n",
        "embedding_matrix = np.zeros((vocab_size, embedding_dim))\n",
        "for word, i in word_index.items():\n",
        "    if i < vocab_size:\n",
        "        embedding_vector = embeddings_index.get(word)\n",
        "        if embedding_vector is not None:\n",
        "            embedding_matrix[i] = embedding_vector"
      ],
      "execution_count": 0,
      "outputs": []
    },
    {
      "cell_type": "code",
      "metadata": {
        "colab_type": "code",
        "id": "Mvss8tF1Vi5A",
        "colab": {
          "base_uri": "https://localhost:8080/",
          "height": 323
        },
        "outputId": "5ca4d357-e2d9-4d85-e2d1-a6b7f3c98871"
      },
      "source": [
        "CONV1D_GLOVE_300 = tf.keras.Sequential([\n",
        "tf.keras.layers.Embedding(vocab_size, embedding_dim, weights=[embedding_matrix],trainable = False ),\n",
        "    tf.keras.layers.Conv1D(128, 5, activation='relu'),\n",
        "    tf.keras.layers.MaxPool1D(pool_size=4),\n",
        "    tf.keras.layers.Bidirectional(tf.keras.layers.LSTM(embedding_dim, dropout=0.2)),\n",
        "    tf.keras.layers.Dense(6, activation='softmax')\n",
        "])\n",
        "CONV1D_GLOVE_300 .summary()"
      ],
      "execution_count": 50,
      "outputs": [
        {
          "output_type": "stream",
          "text": [
            "Model: \"sequential_3\"\n",
            "_________________________________________________________________\n",
            "Layer (type)                 Output Shape              Param #   \n",
            "=================================================================\n",
            "embedding_3 (Embedding)      (None, None, 300)         1500000   \n",
            "_________________________________________________________________\n",
            "conv1d_2 (Conv1D)            (None, None, 128)         192128    \n",
            "_________________________________________________________________\n",
            "max_pooling1d_2 (MaxPooling1 (None, None, 128)         0         \n",
            "_________________________________________________________________\n",
            "bidirectional_3 (Bidirection (None, 600)               1029600   \n",
            "_________________________________________________________________\n",
            "dense_4 (Dense)              (None, 6)                 3606      \n",
            "=================================================================\n",
            "Total params: 2,725,334\n",
            "Trainable params: 1,225,334\n",
            "Non-trainable params: 1,500,000\n",
            "_________________________________________________________________\n"
          ],
          "name": "stdout"
        }
      ]
    },
    {
      "cell_type": "code",
      "metadata": {
        "colab_type": "code",
        "id": "-prXO3GoVjDv",
        "colab": {
          "base_uri": "https://localhost:8080/",
          "height": 357
        },
        "outputId": "07e5ad35-38b1-48ee-f45e-b0c3904d62c8"
      },
      "source": [
        "CONV1D_GLOVE_300  .compile(loss='sparse_categorical_crossentropy', optimizer='adam', metrics=['accuracy'])\n",
        "num_epochs = 10\n",
        "history = CONV1D_GLOVE_300 .fit(train_padded, training_label_seq, epochs=num_epochs, validation_data=(validation_padded, validation_label_seq), verbose=2)"
      ],
      "execution_count": 51,
      "outputs": [
        {
          "output_type": "stream",
          "text": [
            "Epoch 1/10\n",
            "56/56 - 2s - loss: 0.4566 - accuracy: 0.8320 - val_loss: 0.2173 - val_accuracy: 0.9303\n",
            "Epoch 2/10\n",
            "56/56 - 1s - loss: 0.0970 - accuracy: 0.9691 - val_loss: 0.1071 - val_accuracy: 0.9640\n",
            "Epoch 3/10\n",
            "56/56 - 1s - loss: 0.0513 - accuracy: 0.9837 - val_loss: 0.1114 - val_accuracy: 0.9730\n",
            "Epoch 4/10\n",
            "56/56 - 1s - loss: 0.0276 - accuracy: 0.9933 - val_loss: 0.1075 - val_accuracy: 0.9708\n",
            "Epoch 5/10\n",
            "56/56 - 1s - loss: 0.0133 - accuracy: 0.9966 - val_loss: 0.1187 - val_accuracy: 0.9685\n",
            "Epoch 6/10\n",
            "56/56 - 1s - loss: 0.0102 - accuracy: 0.9972 - val_loss: 0.1246 - val_accuracy: 0.9708\n",
            "Epoch 7/10\n",
            "56/56 - 1s - loss: 0.0041 - accuracy: 0.9989 - val_loss: 0.1238 - val_accuracy: 0.9730\n",
            "Epoch 8/10\n",
            "56/56 - 1s - loss: 0.0020 - accuracy: 0.9994 - val_loss: 0.1910 - val_accuracy: 0.9685\n",
            "Epoch 9/10\n",
            "56/56 - 1s - loss: 0.0148 - accuracy: 0.9949 - val_loss: 0.1331 - val_accuracy: 0.9596\n",
            "Epoch 10/10\n",
            "56/56 - 1s - loss: 0.0060 - accuracy: 0.9989 - val_loss: 0.1291 - val_accuracy: 0.9708\n"
          ],
          "name": "stdout"
        }
      ]
    },
    {
      "cell_type": "code",
      "metadata": {
        "colab_type": "code",
        "id": "ntvu56wvVi_h",
        "colab": {
          "base_uri": "https://localhost:8080/",
          "height": 541
        },
        "outputId": "d2fb89ff-8642-43b1-b02f-8c83e5cd591f"
      },
      "source": [
        "def plot_graphs(history, string):\n",
        "  plt.plot(history.history[string])\n",
        "  plt.plot(history.history['val_'+string])\n",
        "  plt.xlabel(\"Epochs\")\n",
        "  plt.ylabel(string)\n",
        "  plt.legend([string, 'val_'+string])\n",
        "  plt.show()\n",
        "  \n",
        "plot_graphs(history, \"accuracy\")\n",
        "plot_graphs(history, \"loss\")"
      ],
      "execution_count": 52,
      "outputs": [
        {
          "output_type": "display_data",
          "data": {
            "image/png": "[encoded data removed]",
            "text/plain": [
              "<Figure size 432x288 with 1 Axes>"
            ]
          },
          "metadata": {
            "tags": [],
            "needs_background": "light"
          }
        },
        {
          "output_type": "display_data",
          "data": {
            "image/png": "[encoded data removed]",
            "text/plain": [
              "<Figure size 432x288 with 1 Axes>"
            ]
          },
          "metadata": {
            "tags": [],
            "needs_background": "light"
          }
        }
      ]
    },
    {
      "cell_type": "markdown",
      "metadata": {
        "id": "9a8lFn8WbyG_",
        "colab_type": "text"
      },
      "source": [
        "Validation accuracy starts higher that training. Maybe it has to do with the distribution of our training and validation data. As we are using dropout to train samples but not when doing validation, if the cases are simple for the model, it can produce such a graph. "
      ]
    },
    {
      "cell_type": "markdown",
      "metadata": {
        "colab_type": "text",
        "id": "7QpJXPPVQXgg"
      },
      "source": [
        "## Step 6. Benchmark\n",
        "\n",
        "Now is time to try our models over real data. All our models present a validation accuracy over 90% as the company asked for, but we want to check how each one performs on some real examples.\n",
        "Trying to provide long and short texts, we have prepared some simple functions that retrieve tweets and headlines and selected some articles for the exercise. "
      ]
    },
    {
      "cell_type": "code",
      "metadata": {
        "colab_type": "code",
        "id": "5mLK8s7kH69v",
        "colab": {}
      },
      "source": [
        "#get_prediction receives a text and a selected model as input \n",
        "#and returns the label for the predicted class with the highest probability calculated by the model  \n",
        "def get_prediction(text):\n",
        "  models = [LSTM, CONV1D, CONV1D_GLOVE_100, CONV1D_GLOVE_300]\n",
        "  model_names = ['LSTM', 'CONV1D', 'CONV1D_GLOVE_100', 'CONV1D_GLOVE_300']\n",
        "  for i in range(0,len(models)):\n",
        "    seq = tokenizer.texts_to_sequences(text)\n",
        "    padded = pad_sequences(seq, maxlen=max_length)\n",
        "    pred = np.argmax(models[i].predict(padded),axis=-1)\n",
        "    labels = {'business': 2, 'entertainment': 5, 'politics': 3, 'sport': 1, 'tech': 4}\n",
        "    prediction =  ([k for k,v in labels.items() if v == pred])\n",
        "    print (\"Model-{} | {}:{}\".format(str(i+1),model_names[i], prediction))"
      ],
      "execution_count": 0,
      "outputs": []
    },
    {
      "cell_type": "code",
      "metadata": {
        "colab_type": "code",
        "id": "5zGGr_Z7JZiV",
        "colab": {
          "base_uri": "https://localhost:8080/",
          "height": 85
        },
        "outputId": "a9266f1c-9797-4ed1-950c-d1b7b4d64dc2"
      },
      "source": [
        "text1 = [\n",
        "\"T-Mobile may have only closed its Sprint merger earlier this month, \\\n",
        "but the carrier isn't letting the coronavirus put its plans on hold. \\\n",
        "After announcing its first deployment of the newly acquired midband spectrum \\\n",
        "in Philadelphia on April 1, T-Mobile plans to redeploy the airwaves in parts \\\n",
        "of New York in May as part of the latest expansion of its 5G network. In turning \\\n",
        "on the 2.5GHz spectrum in New York, T-Mobile will have its first \\\n",
        "city that can showcase its 5G vision. The carrier turned on higher-frequency \\\n",
        "millimeter-wave 5G in parts of the city last summer before adding its low-band, \\\n",
        "wider-reaching 5G network nationwide last December. \\\n",
        "On Tuesday T-Mobile will also expand the low-band footprint to include the Detroit,\\\n",
        "St. Louis and Columbus areas.\\\n",
        "Whereas the millimeter-wave network has fast download speeds but severely \\\n",
        "limited outdoor coverage, and the low-band much better coverage but not noticeably improved \\\n",
        "speeds compared with 4G LTE, the midband spectrum allows for a combination of both with \\\n",
        "significantly faster speeds compared to 4G on service that works both indoors and outside.\"\n",
        "]\n",
        "get_prediction(text1)"
      ],
      "execution_count": 81,
      "outputs": [
        {
          "output_type": "stream",
          "text": [
            "Model-1 | LSTM:['entertainment']\n",
            "Model-2 | CONV1D:['tech']\n",
            "Model-3 | CONV1D_GLOVE_100:['tech']\n",
            "Model-4 | CONV1D_GLOVE_300:['tech']\n"
          ],
          "name": "stdout"
        }
      ]
    },
    {
      "cell_type": "code",
      "metadata": {
        "colab_type": "code",
        "id": "iA1rrmRLRvuM",
        "colab": {
          "base_uri": "https://localhost:8080/",
          "height": 85
        },
        "outputId": "501d7e2d-3ddd-4f06-94b3-1feda5ed1fc7"
      },
      "source": [
        "text2 =[\"Software  as a service companies, modern software firms often referred to by the acronym 'SaaS,' \\\n",
        "had a tough day in the public markets. The basket of companies, as tracked by Bessemer\\’s cloud index,\\\n",
        "dropped 4.49% during regular trading hours.\\\n",
        "The losses gave back some of the software industry’s recent gains,\\\n",
        "advances that had followed a sharp decline in the value of their shares\\\n",
        "as concerns relating to a COVID-19-induced economy hit the richly valued cohort of companies hard;\\\n",
        "indeed, at one point earlier in the year, SaaS and cloud companies were down around 38% from the 2020 highs.\\\n",
        "Those losses, however, largely proved transitory. A steep rally in SaaS and cloud shares brought their decline\\\n",
        "from all-time highs (set earlier this year) to just about 10% yesterday afternoon. Then, today,\\\n",
        "the firms lost over 4%. This puts SaaS and cloud shares in between a correction and a bear market.\"\n",
        "]\n",
        "get_prediction(text2)"
      ],
      "execution_count": 80,
      "outputs": [
        {
          "output_type": "stream",
          "text": [
            "Model-1 | LSTM:['entertainment']\n",
            "Model-2 | CONV1D:['business']\n",
            "Model-3 | CONV1D_GLOVE_100:['business']\n",
            "Model-4 | CONV1D_GLOVE_300:['business']\n"
          ],
          "name": "stdout"
        }
      ]
    },
    {
      "cell_type": "code",
      "metadata": {
        "colab_type": "code",
        "id": "lY5pfkdtzmTx",
        "colab": {
          "base_uri": "https://localhost:8080/",
          "height": 85
        },
        "outputId": "026b072f-6543-46d7-bb09-731d4b5b93fc"
      },
      "source": [
        "text3 = [\"(CNN)World No. 1 Rafa Nadal got his Australian Open campaign off to\\\n",
        "a winning start as he cruised past Bolivian Hugo Dellien 6-2 6-3 6-0. Nadal, whose sole title\\\n",
        "in Melbourne came in 2009, was tested by the No. 73 despite what the one-sided scoreline suggests. He was twice\\\n",
        "broken by Dellien -- at the end of the first set and midway through the second -- but powered through\\\n",
        "the third to love, wrapping up the win in just over two hours.\\\n",
        "Nadal led Spain to the final of the inaugural ATP Cup earlier this month, where he was defeated by Novak Djokovic in a singles match-up in the final.\\\n",
        "Dellien, the first Bolivian to compete at the Australian Open, had just broken inside the top 250\\\n",
        "in the world rankings this time two years ago; two years before that he was just inside the top 500.\"\n",
        "]\n",
        "get_prediction(text3)"
      ],
      "execution_count": 79,
      "outputs": [
        {
          "output_type": "stream",
          "text": [
            "Model-1 | LSTM:['entertainment']\n",
            "Model-2 | CONV1D:['sport']\n",
            "Model-3 | CONV1D_GLOVE_100:['sport']\n",
            "Model-4 | CONV1D_GLOVE_300:['sport']\n"
          ],
          "name": "stdout"
        }
      ]
    },
    {
      "cell_type": "markdown",
      "metadata": {
        "id": "euSW5w3dGn6a",
        "colab_type": "text"
      },
      "source": [
        "Results are good in all samples for models 2-4. Model 1 (without convolutions and not using Glove) seems to have some problems to classify correctly in some samples.  \n"
      ]
    },
    {
      "cell_type": "markdown",
      "metadata": {
        "colab_type": "text",
        "id": "YllGKyfIss7_"
      },
      "source": [
        "## 6.1 Twitter samples\n",
        "\n",
        "Let's use Twitter API to get some samples coming from accounts that publish headlines (newspaper accounts), so we can get new samples quickly."
      ]
    },
    {
      "cell_type": "code",
      "metadata": {
        "colab_type": "code",
        "id": "6U0rccCMswTC",
        "colab": {}
      },
      "source": [
        "import tweepy\n",
        "import numpy as np\n",
        " \n",
        "\n",
        "\n",
        "auth = tweepy.OAuthHandler('U8iFHCD4Y4ZdBFwCVU5ltmJkt', 'XkqkPvQfSCLiAvFDG1fXxxBBS5dQITzzmyuyfORS5JlrXu3CuU')\n",
        "auth.set_access_token('8138652-Gfhn0PRVSNtt6qoegaLBbICu3oYi69kn0ooMztaBFq', 'HiwXT2dzOUMGo57VQH7V9aiGylcV3HsRukz4DjqU6TD9Y')\n",
        "\n",
        "api = tweepy.API(auth)\n",
        "\n",
        "def get_tweets(name, nun_ofTweets):\n",
        "  # Calling the user_timeline function with our parameters\n",
        "  results = api.user_timeline(id=name, count=nun_ofTweets)\n",
        "  # create an array with results\n",
        "  tweets =[]\n",
        "  for tweet in results:\n",
        "   # printing the text stored inside the tweet object\n",
        "    tweets.append(tweet.text)\n",
        "  tweets = np.array(tweets)\n",
        "  for i in range(nun_ofTweets):\n",
        "    print(tweets[i])\n",
        "    print(\"-\"*90)\n",
        "    get_prediction([tweets[i]])\n",
        "    print(\"-\"*90)\n",
        "   "
      ],
      "execution_count": 0,
      "outputs": []
    },
    {
      "cell_type": "code",
      "metadata": {
        "id": "Dh9E7zHctDE6",
        "colab_type": "code",
        "colab": {
          "base_uri": "https://localhost:8080/",
          "height": 1000
        },
        "outputId": "507d17eb-1432-4658-aa77-75d2e487e795"
      },
      "source": [
        "get_tweets('guardiantech', 20)"
      ],
      "execution_count": 82,
      "outputs": [
        {
          "output_type": "stream",
          "text": [
            "The schoolboy brothers making coronavirus visors for care workers https://t.co/s5zB0H0HMn\n",
            "------------------------------------------------------------------------------------------\n",
            "Model-1 | LSTM:['entertainment']\n",
            "Model-2 | CONV1D:['sport']\n",
            "Model-3 | CONV1D_GLOVE_100:['politics']\n",
            "Model-4 | CONV1D_GLOVE_300:['tech']\n",
            "------------------------------------------------------------------------------------------\n",
            "Best noise-cancelling headphones for working from home https://t.co/vX2NUewAPT\n",
            "------------------------------------------------------------------------------------------\n",
            "Model-1 | LSTM:['entertainment']\n",
            "Model-2 | CONV1D:['sport']\n",
            "Model-3 | CONV1D_GLOVE_100:['tech']\n",
            "Model-4 | CONV1D_GLOVE_300:['tech']\n",
            "------------------------------------------------------------------------------------------\n",
            "Sony told to pay BBC £5m for stock damaged in London riots https://t.co/hLWvwqizIK\n",
            "------------------------------------------------------------------------------------------\n",
            "Model-1 | LSTM:['entertainment']\n",
            "Model-2 | CONV1D:['sport']\n",
            "Model-3 | CONV1D_GLOVE_100:['tech']\n",
            "Model-4 | CONV1D_GLOVE_300:['tech']\n",
            "------------------------------------------------------------------------------------------\n",
            "Lockdown is giving my kids a crash course in screen and tween culture | Emma Brockes https://t.co/D465A4guCn\n",
            "------------------------------------------------------------------------------------------\n",
            "Model-1 | LSTM:['entertainment']\n",
            "Model-2 | CONV1D:['sport']\n",
            "Model-3 | CONV1D_GLOVE_100:['tech']\n",
            "Model-4 | CONV1D_GLOVE_300:['tech']\n",
            "------------------------------------------------------------------------------------------\n",
            "'Selling censorship': proposed sale of .org web registry sparks fears for non-profits https://t.co/ef0GPqbQAE\n",
            "------------------------------------------------------------------------------------------\n",
            "Model-1 | LSTM:['entertainment']\n",
            "Model-2 | CONV1D:['sport']\n",
            "Model-3 | CONV1D_GLOVE_100:['tech']\n",
            "Model-4 | CONV1D_GLOVE_300:['tech']\n",
            "------------------------------------------------------------------------------------------\n",
            "Zoom releases security updates in response to 'Zoom-bombings' https://t.co/UyDyzSux1v\n",
            "------------------------------------------------------------------------------------------\n",
            "Model-1 | LSTM:['entertainment']\n",
            "Model-2 | CONV1D:['sport']\n",
            "Model-3 | CONV1D_GLOVE_100:['tech']\n",
            "Model-4 | CONV1D_GLOVE_300:['tech']\n",
            "------------------------------------------------------------------------------------------\n",
            "Bug leaves iPhones vulnerable to hackers stealing email contents https://t.co/czKuLDIvTL\n",
            "------------------------------------------------------------------------------------------\n",
            "Model-1 | LSTM:['entertainment']\n",
            "Model-2 | CONV1D:['sport']\n",
            "Model-3 | CONV1D_GLOVE_100:['tech']\n",
            "Model-4 | CONV1D_GLOVE_300:['tech']\n",
            "------------------------------------------------------------------------------------------\n",
            "OnePlus 8 Pro review: the Samsung killer https://t.co/VThasu9Va4\n",
            "------------------------------------------------------------------------------------------\n",
            "Model-1 | LSTM:['entertainment']\n",
            "Model-2 | CONV1D:['sport']\n",
            "Model-3 | CONV1D_GLOVE_100:['tech']\n",
            "Model-4 | CONV1D_GLOVE_300:['tech']\n",
            "------------------------------------------------------------------------------------------\n",
            "How we are missing the warmth of a hug | Brief letters https://t.co/gp3JTrA0Zv\n",
            "------------------------------------------------------------------------------------------\n",
            "Model-1 | LSTM:['entertainment']\n",
            "Model-2 | CONV1D:['sport']\n",
            "Model-3 | CONV1D_GLOVE_100:['tech']\n",
            "Model-4 | CONV1D_GLOVE_300:['tech']\n",
            "------------------------------------------------------------------------------------------\n",
            "Fortnite owner gives up battle against Google Play store https://t.co/BG65VudXw1\n",
            "------------------------------------------------------------------------------------------\n",
            "Model-1 | LSTM:['entertainment']\n",
            "Model-2 | CONV1D:['sport']\n",
            "Model-3 | CONV1D_GLOVE_100:['tech']\n",
            "Model-4 | CONV1D_GLOVE_300:['tech']\n",
            "------------------------------------------------------------------------------------------\n",
            "Using Big Tech to tackle coronavirus risks swapping one lockdown for another | Adam Smith https://t.co/9LTlc6iTg9\n",
            "------------------------------------------------------------------------------------------\n",
            "Model-1 | LSTM:['entertainment']\n",
            "Model-2 | CONV1D:['sport']\n",
            "Model-3 | CONV1D_GLOVE_100:['tech']\n",
            "Model-4 | CONV1D_GLOVE_300:['tech']\n",
            "------------------------------------------------------------------------------------------\n",
            "No evidence of bots manipulating UK coronavirus conversation, says Twitter https://t.co/bniADhqwLZ\n",
            "------------------------------------------------------------------------------------------\n",
            "Model-1 | LSTM:['entertainment']\n",
            "Model-2 | CONV1D:['sport']\n",
            "Model-3 | CONV1D_GLOVE_100:['politics']\n",
            "Model-4 | CONV1D_GLOVE_300:['politics']\n",
            "------------------------------------------------------------------------------------------\n",
            "Hundreds of Amazon warehouse workers to call in sick in protest over coronavirus safety https://t.co/grr8xSFfbx\n",
            "------------------------------------------------------------------------------------------\n",
            "Model-1 | LSTM:['entertainment']\n",
            "Model-2 | CONV1D:['sport']\n",
            "Model-3 | CONV1D_GLOVE_100:['tech']\n",
            "Model-4 | CONV1D_GLOVE_300:['tech']\n",
            "------------------------------------------------------------------------------------------\n",
            "Should Facebook ban anti-lockdown protests? The thorny questions of civil rights amid coronavirus https://t.co/UBzFM01Vuy\n",
            "------------------------------------------------------------------------------------------\n",
            "Model-1 | LSTM:['entertainment']\n",
            "Model-2 | CONV1D:['sport']\n",
            "Model-3 | CONV1D_GLOVE_100:['politics']\n",
            "Model-4 | CONV1D_GLOVE_300:['politics']\n",
            "------------------------------------------------------------------------------------------\n",
            "GCHQ calls on public to report coronavirus-related phishing emails https://t.co/xxU9lBM9kk\n",
            "------------------------------------------------------------------------------------------\n",
            "Model-1 | LSTM:['entertainment']\n",
            "Model-2 | CONV1D:['sport']\n",
            "Model-3 | CONV1D_GLOVE_100:['tech']\n",
            "Model-4 | CONV1D_GLOVE_300:['tech']\n",
            "------------------------------------------------------------------------------------------\n",
            "OnePlus 8 review: 5G and top performance for less https://t.co/kIPpJ5ZehU\n",
            "------------------------------------------------------------------------------------------\n",
            "Model-1 | LSTM:['entertainment']\n",
            "Model-2 | CONV1D:['sport']\n",
            "Model-3 | CONV1D_GLOVE_100:['tech']\n",
            "Model-4 | CONV1D_GLOVE_300:['tech']\n",
            "------------------------------------------------------------------------------------------\n",
            "Facebook 'disappointed' in Australia's attempt to make tech giants pay for news content https://t.co/8cIcBibfSA\n",
            "------------------------------------------------------------------------------------------\n",
            "Model-1 | LSTM:['entertainment']\n",
            "Model-2 | CONV1D:['sport']\n",
            "Model-3 | CONV1D_GLOVE_100:['tech']\n",
            "Model-4 | CONV1D_GLOVE_300:['tech']\n",
            "------------------------------------------------------------------------------------------\n",
            "Australian coronavirus contact tracing app voluntary and with 'no hidden agenda', minister says https://t.co/PYrdLubJc8\n",
            "------------------------------------------------------------------------------------------\n",
            "Model-1 | LSTM:['entertainment']\n",
            "Model-2 | CONV1D:['sport']\n",
            "Model-3 | CONV1D_GLOVE_100:['politics']\n",
            "Model-4 | CONV1D_GLOVE_300:['politics']\n",
            "------------------------------------------------------------------------------------------\n",
            "Coronavirus has made Amazon a public utility – so we should treat it like one | Wendy Liu https://t.co/TDU7950eq3\n",
            "------------------------------------------------------------------------------------------\n",
            "Model-1 | LSTM:['entertainment']\n",
            "Model-2 | CONV1D:['sport']\n",
            "Model-3 | CONV1D_GLOVE_100:['tech']\n",
            "Model-4 | CONV1D_GLOVE_300:['tech']\n",
            "------------------------------------------------------------------------------------------\n",
            "You want more diversity? Make your work a place where blackfullas feel valued | Ben Armstrong for IndigenousX https://t.co/cCmsugCgz4\n",
            "------------------------------------------------------------------------------------------\n",
            "Model-1 | LSTM:['entertainment']\n",
            "Model-2 | CONV1D:['sport']\n",
            "Model-3 | CONV1D_GLOVE_100:['tech']\n",
            "Model-4 | CONV1D_GLOVE_300:['tech']\n",
            "------------------------------------------------------------------------------------------\n"
          ],
          "name": "stdout"
        }
      ]
    },
    {
      "cell_type": "markdown",
      "metadata": {
        "id": "K73yMS9JINp4",
        "colab_type": "text"
      },
      "source": [
        "Again models 3 and 4  seems to be more accurate with model 4 differing sometimes.\n",
        "\n",
        "\n"
      ]
    },
    {
      "cell_type": "markdown",
      "metadata": {
        "id": "PBYNZ4VW4oGS",
        "colab_type": "text"
      },
      "source": [
        "## 6.2 News headlines samples\n",
        "Let's try now with the samples recorded in this new [dataset](https://www.kaggle.com/adammcmurchie/news-headlines-summary-from-select-12-sources) used for other machine learning tasks, that contains examples of news titles (and the complete text) We can play with our models, asking them to predict over documents they haven't seen before."
      ]
    },
    {
      "cell_type": "code",
      "metadata": {
        "id": "cQWeelsDY-bB",
        "colab_type": "code",
        "colab": {}
      },
      "source": [
        "dataset = pd.read_csv('data/headlines.csv', sep=\",\")"
      ],
      "execution_count": 0,
      "outputs": []
    },
    {
      "cell_type": "code",
      "metadata": {
        "id": "D-ONFLB1DEvP",
        "colab_type": "code",
        "colab": {}
      },
      "source": [
        "selection = dataset['title'][100:110]"
      ],
      "execution_count": 0,
      "outputs": []
    },
    {
      "cell_type": "code",
      "metadata": {
        "id": "0ZmwV-b39NG3",
        "colab_type": "code",
        "colab": {}
      },
      "source": [
        "headlines = np.array(selection)"
      ],
      "execution_count": 0,
      "outputs": []
    },
    {
      "cell_type": "code",
      "metadata": {
        "id": "ZjM3irmw6R0z",
        "colab_type": "code",
        "colab": {
          "base_uri": "https://localhost:8080/",
          "height": 1000
        },
        "outputId": "51478503-fccb-4e01-d355-80320610d789"
      },
      "source": [
        "for i in range(10):\n",
        "  print(headlines[i])\n",
        "  print(\"-\"*90)\n",
        "  get_prediction([headlines[i]])\n",
        "  print(\"-\"*90)"
      ],
      "execution_count": 86,
      "outputs": [
        {
          "output_type": "stream",
          "text": [
            "Kansas officer resigned over alleged bogus complaint against McDonald's workers\n",
            "------------------------------------------------------------------------------------------\n",
            "Model-1 | LSTM:['entertainment']\n",
            "Model-2 | CONV1D:['sport']\n",
            "Model-3 | CONV1D_GLOVE_100:['politics']\n",
            "Model-4 | CONV1D_GLOVE_300:['politics']\n",
            "------------------------------------------------------------------------------------------\n",
            "Facebook's latest takedown has a twist -- AI-generated profile pictures\n",
            "------------------------------------------------------------------------------------------\n",
            "Model-1 | LSTM:['entertainment']\n",
            "Model-2 | CONV1D:['sport']\n",
            "Model-3 | CONV1D_GLOVE_100:['tech']\n",
            "Model-4 | CONV1D_GLOVE_300:['tech']\n",
            "------------------------------------------------------------------------------------------\n",
            "16-year-old rock climber survives 500-foot fall on Oregon's Mount Hood\n",
            "------------------------------------------------------------------------------------------\n",
            "Model-1 | LSTM:['entertainment']\n",
            "Model-2 | CONV1D:['sport']\n",
            "Model-3 | CONV1D_GLOVE_100:['business']\n",
            "Model-4 | CONV1D_GLOVE_300:['tech']\n",
            "------------------------------------------------------------------------------------------\n",
            "Governor fires 34 prison guard trainees who gave Nazi salute\n",
            "------------------------------------------------------------------------------------------\n",
            "Model-1 | LSTM:['entertainment']\n",
            "Model-2 | CONV1D:['sport']\n",
            "Model-3 | CONV1D_GLOVE_100:['politics']\n",
            "Model-4 | CONV1D_GLOVE_300:['politics']\n",
            "------------------------------------------------------------------------------------------\n",
            "Trump signs bill to help eliminate backlog in rape kit testing\n",
            "------------------------------------------------------------------------------------------\n",
            "Model-1 | LSTM:['entertainment']\n",
            "Model-2 | CONV1D:['sport']\n",
            "Model-3 | CONV1D_GLOVE_100:['business']\n",
            "Model-4 | CONV1D_GLOVE_300:['tech']\n",
            "------------------------------------------------------------------------------------------\n",
            "Heterosexual couples form 1st civil partnerships in England\n",
            "------------------------------------------------------------------------------------------\n",
            "Model-1 | LSTM:['entertainment']\n",
            "Model-2 | CONV1D:['sport']\n",
            "Model-3 | CONV1D_GLOVE_100:['politics']\n",
            "Model-4 | CONV1D_GLOVE_300:['politics']\n",
            "------------------------------------------------------------------------------------------\n",
            "Storm moving out in east, new storm to move across U.S. to start new year\n",
            "------------------------------------------------------------------------------------------\n",
            "Model-1 | LSTM:['entertainment']\n",
            "Model-2 | CONV1D:['sport']\n",
            "Model-3 | CONV1D_GLOVE_100:['tech']\n",
            "Model-4 | CONV1D_GLOVE_300:['tech']\n",
            "------------------------------------------------------------------------------------------\n",
            "Minimum wage to increase in more than 20 states in 2020\n",
            "------------------------------------------------------------------------------------------\n",
            "Model-1 | LSTM:['entertainment']\n",
            "Model-2 | CONV1D:['sport']\n",
            "Model-3 | CONV1D_GLOVE_100:['politics']\n",
            "Model-4 | CONV1D_GLOVE_300:['politics']\n",
            "------------------------------------------------------------------------------------------\n",
            "Residents stranded as Australia fires escalate\n",
            "------------------------------------------------------------------------------------------\n",
            "Model-1 | LSTM:['entertainment']\n",
            "Model-2 | CONV1D:['sport']\n",
            "Model-3 | CONV1D_GLOVE_100:['politics']\n",
            "Model-4 | CONV1D_GLOVE_300:['politics']\n",
            "------------------------------------------------------------------------------------------\n",
            "Do Americans feel safer after Soleimani attack?\n",
            "------------------------------------------------------------------------------------------\n",
            "Model-1 | LSTM:['entertainment']\n",
            "Model-2 | CONV1D:['sport']\n",
            "Model-3 | CONV1D_GLOVE_100:['politics']\n",
            "Model-4 | CONV1D_GLOVE_300:['tech']\n",
            "------------------------------------------------------------------------------------------\n"
          ],
          "name": "stdout"
        }
      ]
    },
    {
      "cell_type": "markdown",
      "metadata": {
        "id": "4o81Xt7tJ6o3",
        "colab_type": "text"
      },
      "source": [
        "Now that we are stressing our models, you can see that all of them make mistakes in some cases. Remember: best validation accuracy (for model 3) is 97%, and here we are testing over random samples. The overall accuracy is what counts, but we wanted to make a little demo so the business owners can see a more practical application of the project.\n",
        "It seems like Glove embedding has an outstanding impact on the final results but not necessarily in the 300d version. This version tends to classify correctly but using a more broad label (if no making mistakes)\n",
        "\n",
        "For example, the headline:\n",
        "\n",
        "`Facebook's latest takedown has a twist -- AI-generated profile pictures.`\n",
        "\n",
        "It is not correctly classified by models 1 and 2 and classified as a business by model 4. One can say that 'business is correct' but less precise as 'tech' witch is the class assigned by model 3."
      ]
    },
    {
      "cell_type": "markdown",
      "metadata": {
        "colab_type": "text",
        "id": "q4-8pTAIQlgm"
      },
      "source": [
        "## 6.3 Drift in accuracy \n",
        "\n",
        "No matter how accurate your model is, you will need to monitor its accuracy over time and pay attention to changes in the way real data evolves. Sometimes a fundamental change in the problem you are working on may change the distribution of your data, so [your model is no as accurate anymore.](https://towardsdatascience.com/concept-drift-and-model-decay-in-machine-learning-a98a809ea8d4)\n",
        "\n",
        "Just see how with headlines from the Google News service (not recorded headlines in a data set), our models encounter more problems to classify the information correctly.\n",
        "\n",
        "If the paper is talking about Covid-19 or mentioning the impact of the lockdown in whatever the news category (sport, business, tech), the models defer more between one ad other, as our model was trained without those references. In some cases, a well-performing model got it absolutely wrong. \n",
        "\n",
        "I think this is  an excellent example of the importance of monitoring your models in production"
      ]
    },
    {
      "cell_type": "code",
      "metadata": {
        "colab_type": "code",
        "id": "-Qv_cUZO7RvZ",
        "colab": {
          "base_uri": "https://localhost:8080/",
          "height": 1000
        },
        "outputId": "1d636ea8-a367-4363-a2b7-d1d5c2f2c875"
      },
      "source": [
        "import bs4\n",
        "from bs4 import BeautifulSoup as soup\n",
        "from urllib.request import urlopen\n",
        "\n",
        "news_url=\"https://news.google.com/news/rss\"\n",
        "Client=urlopen(news_url)\n",
        "xml_page=Client.read()\n",
        "Client.close()\n",
        "\n",
        "soup_page=soup(xml_page,\"xml\")\n",
        "news_list=soup_page.findAll(\"item\")\n",
        "news_titles =[]\n",
        "for news in news_list:\n",
        "  title = news.title.text\n",
        "  news_titles.append(title)\n",
        "\n",
        "news_titles = np.array(news_titles)\n",
        "for i in range(len(news_titles)):\n",
        "  print(news_titles[i])\n",
        "  print(\"-\"*90)\n",
        "  get_prediction([news_titles[i]])\n",
        "  print(\"-\"*90)"
      ],
      "execution_count": 90,
      "outputs": [
        {
          "output_type": "stream",
          "text": [
            "Here's how Trump and his allies are trying to defend his crazy claim about injecting disinfectant - Salon\n",
            "------------------------------------------------------------------------------------------\n",
            "Model-1 | LSTM:['entertainment']\n",
            "Model-2 | CONV1D:['sport']\n",
            "Model-3 | CONV1D_GLOVE_100:['politics']\n",
            "Model-4 | CONV1D_GLOVE_300:['politics']\n",
            "------------------------------------------------------------------------------------------\n",
            "Kim Jong Un Remains Absent on Day North Korean Media Celebrates Founding of Armed Forces - Newsweek\n",
            "------------------------------------------------------------------------------------------\n",
            "Model-1 | LSTM:['entertainment']\n",
            "Model-2 | CONV1D:['sport']\n",
            "Model-3 | CONV1D_GLOVE_100:['tech']\n",
            "Model-4 | CONV1D_GLOVE_300:['tech']\n",
            "------------------------------------------------------------------------------------------\n",
            "New evidence surfaces in Tara Reade allegation against Biden - POLITICO\n",
            "------------------------------------------------------------------------------------------\n",
            "Model-1 | LSTM:['entertainment']\n",
            "Model-2 | CONV1D:['sport']\n",
            "Model-3 | CONV1D_GLOVE_100:['business']\n",
            "Model-4 | CONV1D_GLOVE_300:['tech']\n",
            "------------------------------------------------------------------------------------------\n",
            "Georgia starts to reopen but nervous mayors warn that coronavirus crisis isn't over - CNN\n",
            "------------------------------------------------------------------------------------------\n",
            "Model-1 | LSTM:['entertainment']\n",
            "Model-2 | CONV1D:['sport']\n",
            "Model-3 | CONV1D_GLOVE_100:['business']\n",
            "Model-4 | CONV1D_GLOVE_300:['tech']\n",
            "------------------------------------------------------------------------------------------\n",
            "As stay-at-home order extended, Chicagoans enter next phase of life under COVID-19 - Chicago Tribune\n",
            "------------------------------------------------------------------------------------------\n",
            "Model-1 | LSTM:['entertainment']\n",
            "Model-2 | CONV1D:['sport']\n",
            "Model-3 | CONV1D_GLOVE_100:['business']\n",
            "Model-4 | CONV1D_GLOVE_300:['business']\n",
            "------------------------------------------------------------------------------------------\n",
            "Sunlight Kills Coronavirus Quickly, Says Top DHS Scientist - Newsweek\n",
            "------------------------------------------------------------------------------------------\n",
            "Model-1 | LSTM:['entertainment']\n",
            "Model-2 | CONV1D:['sport']\n",
            "Model-3 | CONV1D_GLOVE_100:['business']\n",
            "Model-4 | CONV1D_GLOVE_300:['tech']\n",
            "------------------------------------------------------------------------------------------\n",
            "Elective surgeries set to resume, with complications and concerns - News Info Park\n",
            "------------------------------------------------------------------------------------------\n",
            "Model-1 | LSTM:['entertainment']\n",
            "Model-2 | CONV1D:['sport']\n",
            "Model-3 | CONV1D_GLOVE_100:['business']\n",
            "Model-4 | CONV1D_GLOVE_300:['tech']\n",
            "------------------------------------------------------------------------------------------\n",
            "Coronavirus pandemic spreads around the globe: Live updates - CNN International\n",
            "------------------------------------------------------------------------------------------\n",
            "Model-1 | LSTM:['entertainment']\n",
            "Model-2 | CONV1D:['sport']\n",
            "Model-3 | CONV1D_GLOVE_100:['tech']\n",
            "Model-4 | CONV1D_GLOVE_300:['tech']\n",
            "------------------------------------------------------------------------------------------\n",
            "Cuomo: The Coronavirus That Came To New York \"Did Not Come From China, It Came From Europe\" - RealClearPolitics\n",
            "------------------------------------------------------------------------------------------\n",
            "Model-1 | LSTM:['entertainment']\n",
            "Model-2 | CONV1D:['sport']\n",
            "Model-3 | CONV1D_GLOVE_100:['business']\n",
            "Model-4 | CONV1D_GLOVE_300:['tech']\n",
            "------------------------------------------------------------------------------------------\n",
            "Why is coronavirus taking such a deadly toll on black Americans? - The Guardian\n",
            "------------------------------------------------------------------------------------------\n",
            "Model-1 | LSTM:['entertainment']\n",
            "Model-2 | CONV1D:['sport']\n",
            "Model-3 | CONV1D_GLOVE_100:['business']\n",
            "Model-4 | CONV1D_GLOVE_300:['tech']\n",
            "------------------------------------------------------------------------------------------\n",
            "Coronavirus: US will not participate in WHO vaccine project after Trump turned against it - The Independent\n",
            "------------------------------------------------------------------------------------------\n",
            "Model-1 | LSTM:['entertainment']\n",
            "Model-2 | CONV1D:['sport']\n",
            "Model-3 | CONV1D_GLOVE_100:['tech']\n",
            "Model-4 | CONV1D_GLOVE_300:['tech']\n",
            "------------------------------------------------------------------------------------------\n",
            "'No evidence' antibodies protect recovered coronavirus patients, WHO says - New York Post \n",
            "------------------------------------------------------------------------------------------\n",
            "Model-1 | LSTM:['entertainment']\n",
            "Model-2 | CONV1D:['sport']\n",
            "Model-3 | CONV1D_GLOVE_100:['politics']\n",
            "Model-4 | CONV1D_GLOVE_300:['tech']\n",
            "------------------------------------------------------------------------------------------\n",
            "Brazil justice minister resigns, accuses Bolsonaro of meddling - Al Jazeera English\n",
            "------------------------------------------------------------------------------------------\n",
            "Model-1 | LSTM:['entertainment']\n",
            "Model-2 | CONV1D:['sport']\n",
            "Model-3 | CONV1D_GLOVE_100:['politics']\n",
            "Model-4 | CONV1D_GLOVE_300:['politics']\n",
            "------------------------------------------------------------------------------------------\n",
            "Britain passes milestone of 20,000 coronavirus hospital deaths - Reuters.com\n",
            "------------------------------------------------------------------------------------------\n",
            "Model-1 | LSTM:['entertainment']\n",
            "Model-2 | CONV1D:['sport']\n",
            "Model-3 | CONV1D_GLOVE_100:['politics']\n",
            "Model-4 | CONV1D_GLOVE_300:['politics']\n",
            "------------------------------------------------------------------------------------------\n",
            "Next round of small-business loans under controversial coronavirus-aid program starts Monday - Seattle Times\n",
            "------------------------------------------------------------------------------------------\n",
            "Model-1 | LSTM:['entertainment']\n",
            "Model-2 | CONV1D:['sport']\n",
            "Model-3 | CONV1D_GLOVE_100:['business']\n",
            "Model-4 | CONV1D_GLOVE_300:['business']\n",
            "------------------------------------------------------------------------------------------\n",
            "Oil: Lower For Longer Is The New Normal Amid A Slumping Global Economy - Forbes\n",
            "------------------------------------------------------------------------------------------\n",
            "Model-1 | LSTM:['entertainment']\n",
            "Model-2 | CONV1D:['sport']\n",
            "Model-3 | CONV1D_GLOVE_100:['business']\n",
            "Model-4 | CONV1D_GLOVE_300:['business']\n",
            "------------------------------------------------------------------------------------------\n",
            "Boeing terminates joint venture agreement with Brazil's Embraer - CNBC\n",
            "------------------------------------------------------------------------------------------\n",
            "Model-1 | LSTM:['entertainment']\n",
            "Model-2 | CONV1D:['sport']\n",
            "Model-3 | CONV1D_GLOVE_100:['business']\n",
            "Model-4 | CONV1D_GLOVE_300:['business']\n",
            "------------------------------------------------------------------------------------------\n",
            "Pre & Post COVID-19 Market Estimates-Global Neuromodulation Market 2020-2024 | Evolving Opportunities with Abbott Laboratories and Boston Scientific Corp. | Technavio - Benzinga\n",
            "------------------------------------------------------------------------------------------\n",
            "Model-1 | LSTM:['entertainment']\n",
            "Model-2 | CONV1D:['sport']\n",
            "Model-3 | CONV1D_GLOVE_100:['business']\n",
            "Model-4 | CONV1D_GLOVE_300:['business']\n",
            "------------------------------------------------------------------------------------------\n",
            "Zoom’s Good Week Ends on Sour Note After Facebook Crashes Party - Bloomberg\n",
            "------------------------------------------------------------------------------------------\n",
            "Model-1 | LSTM:['entertainment']\n",
            "Model-2 | CONV1D:['sport']\n",
            "Model-3 | CONV1D_GLOVE_100:['business']\n",
            "Model-4 | CONV1D_GLOVE_300:['politics']\n",
            "------------------------------------------------------------------------------------------\n",
            "Apple, Google update coronavirus tracking tech to address privacy concerns - CNET\n",
            "------------------------------------------------------------------------------------------\n",
            "Model-1 | LSTM:['entertainment']\n",
            "Model-2 | CONV1D:['sport']\n",
            "Model-3 | CONV1D_GLOVE_100:['tech']\n",
            "Model-4 | CONV1D_GLOVE_300:['tech']\n",
            "------------------------------------------------------------------------------------------\n",
            "Apple iPhone SE review: $399 gets you the power of a $1,000 phone - Yahoo Money\n",
            "------------------------------------------------------------------------------------------\n",
            "Model-1 | LSTM:['entertainment']\n",
            "Model-2 | CONV1D:['sport']\n",
            "Model-3 | CONV1D_GLOVE_100:['tech']\n",
            "Model-4 | CONV1D_GLOVE_300:['tech']\n",
            "------------------------------------------------------------------------------------------\n",
            "T-Mobile confirms it's going to brick 5G on most Sprint 5G phones post-merger - Android Police\n",
            "------------------------------------------------------------------------------------------\n",
            "Model-1 | LSTM:['entertainment']\n",
            "Model-2 | CONV1D:['sport']\n",
            "Model-3 | CONV1D_GLOVE_100:['tech']\n",
            "Model-4 | CONV1D_GLOVE_300:['tech']\n",
            "------------------------------------------------------------------------------------------\n",
            "Disney reshuffles Marvel movie release dates out to 2022 - CNET\n",
            "------------------------------------------------------------------------------------------\n",
            "Model-1 | LSTM:['entertainment']\n",
            "Model-2 | CONV1D:['sport']\n",
            "Model-3 | CONV1D_GLOVE_100:['tech']\n",
            "Model-4 | CONV1D_GLOVE_300:['tech']\n",
            "------------------------------------------------------------------------------------------\n",
            "'Extraction' ending explained: Is Netflix planning a sequel? - Los Angeles Times\n",
            "------------------------------------------------------------------------------------------\n",
            "Model-1 | LSTM:['entertainment']\n",
            "Model-2 | CONV1D:['sport']\n",
            "Model-3 | CONV1D_GLOVE_100:['tech']\n",
            "Model-4 | CONV1D_GLOVE_300:['tech']\n",
            "------------------------------------------------------------------------------------------\n",
            "Every Movie Delayed Due to Coronavirus: Find Out the New Release Date - Entertainment Tonight\n",
            "------------------------------------------------------------------------------------------\n",
            "Model-1 | LSTM:['entertainment']\n",
            "Model-2 | CONV1D:['sport']\n",
            "Model-3 | CONV1D_GLOVE_100:['entertainment']\n",
            "Model-4 | CONV1D_GLOVE_300:['tech']\n",
            "------------------------------------------------------------------------------------------\n",
            "The Largest US Movie Theater Chain Won't Reopen Even If States Say It Can - HuffPost\n",
            "------------------------------------------------------------------------------------------\n",
            "Model-1 | LSTM:['entertainment']\n",
            "Model-2 | CONV1D:['sport']\n",
            "Model-3 | CONV1D_GLOVE_100:['tech']\n",
            "Model-4 | CONV1D_GLOVE_300:['tech']\n",
            "------------------------------------------------------------------------------------------\n",
            "2020 NFL Draft Day 2 winners and losers: Packers make more head-scratching moves, Panthers load up on defense - CBS Sports\n",
            "------------------------------------------------------------------------------------------\n",
            "Model-1 | LSTM:['entertainment']\n",
            "Model-2 | CONV1D:['sport']\n",
            "Model-3 | CONV1D_GLOVE_100:['business']\n",
            "Model-4 | CONV1D_GLOVE_300:['tech']\n",
            "------------------------------------------------------------------------------------------\n",
            "Eagles turn heads with Jalen Hurts selection, GM says quarterback was best on board - Fox News\n",
            "------------------------------------------------------------------------------------------\n",
            "Model-1 | LSTM:['entertainment']\n",
            "Model-2 | CONV1D:['sport']\n",
            "Model-3 | CONV1D_GLOVE_100:['business']\n",
            "Model-4 | CONV1D_GLOVE_300:['tech']\n",
            "------------------------------------------------------------------------------------------\n",
            "The Packers and Aaron Rodgers seem to be on a collision course for a divorce - NBC Sports - NFL\n",
            "------------------------------------------------------------------------------------------\n",
            "Model-1 | LSTM:['entertainment']\n",
            "Model-2 | CONV1D:['sport']\n",
            "Model-3 | CONV1D_GLOVE_100:['tech']\n",
            "Model-4 | CONV1D_GLOVE_300:['tech']\n",
            "------------------------------------------------------------------------------------------\n",
            "Grading the Rams' picks on Day 2 of 2020 NFL Draft - Rams Wire\n",
            "------------------------------------------------------------------------------------------\n",
            "Model-1 | LSTM:['entertainment']\n",
            "Model-2 | CONV1D:['sport']\n",
            "Model-3 | CONV1D_GLOVE_100:['business']\n",
            "Model-4 | CONV1D_GLOVE_300:['tech']\n",
            "------------------------------------------------------------------------------------------\n",
            "Exploring the Expanse: 30 Years of Hubble Discoveries - Visual Capitalist\n",
            "------------------------------------------------------------------------------------------\n",
            "Model-1 | LSTM:['entertainment']\n",
            "Model-2 | CONV1D:['sport']\n",
            "Model-3 | CONV1D_GLOVE_100:['tech']\n",
            "Model-4 | CONV1D_GLOVE_300:['tech']\n",
            "------------------------------------------------------------------------------------------\n",
            "Giant asteroid flying by Earth next week looks like it's wearing a face mask - KSL.com\n",
            "------------------------------------------------------------------------------------------\n",
            "Model-1 | LSTM:['entertainment']\n",
            "Model-2 | CONV1D:['sport']\n",
            "Model-3 | CONV1D_GLOVE_100:['tech']\n",
            "Model-4 | CONV1D_GLOVE_300:['tech']\n",
            "------------------------------------------------------------------------------------------\n",
            "SpaceX on target for milestone May 27 crew launch, safety panel says - Space.com\n",
            "------------------------------------------------------------------------------------------\n",
            "Model-1 | LSTM:['entertainment']\n",
            "Model-2 | CONV1D:['sport']\n",
            "Model-3 | CONV1D_GLOVE_100:['tech']\n",
            "Model-4 | CONV1D_GLOVE_300:['tech']\n",
            "------------------------------------------------------------------------------------------\n",
            "Lyrid meteor shower, the best night sky show for months, is peaking now - CNET\n",
            "------------------------------------------------------------------------------------------\n",
            "Model-1 | LSTM:['entertainment']\n",
            "Model-2 | CONV1D:['sport']\n",
            "Model-3 | CONV1D_GLOVE_100:['entertainment']\n",
            "Model-4 | CONV1D_GLOVE_300:['tech']\n",
            "------------------------------------------------------------------------------------------\n",
            "Miami-Dade Residents With Coronavirus Could Be Much Higher, Random Sample Study Shows - NBC 6 South Florida\n",
            "------------------------------------------------------------------------------------------\n",
            "Model-1 | LSTM:['entertainment']\n",
            "Model-2 | CONV1D:['sport']\n",
            "Model-3 | CONV1D_GLOVE_100:['business']\n",
            "Model-4 | CONV1D_GLOVE_300:['tech']\n",
            "------------------------------------------------------------------------------------------\n",
            "New COVID-19 side effect in people under 50 - KATU\n",
            "------------------------------------------------------------------------------------------\n",
            "Model-1 | LSTM:['entertainment']\n",
            "Model-2 | CONV1D:['sport']\n",
            "Model-3 | CONV1D_GLOVE_100:['business']\n",
            "Model-4 | CONV1D_GLOVE_300:['tech']\n",
            "------------------------------------------------------------------------------------------\n",
            "'COVID toes' may be new symptom of coronavirus, doctors say - KABC-TV\n",
            "------------------------------------------------------------------------------------------\n",
            "Model-1 | LSTM:['entertainment']\n",
            "Model-2 | CONV1D:['sport']\n",
            "Model-3 | CONV1D_GLOVE_100:['tech']\n",
            "Model-4 | CONV1D_GLOVE_300:['tech']\n",
            "------------------------------------------------------------------------------------------\n",
            "Experts demolish studies suggesting COVID-19 is no worse than flu - Ars Technica\n",
            "------------------------------------------------------------------------------------------\n",
            "Model-1 | LSTM:['entertainment']\n",
            "Model-2 | CONV1D:['sport']\n",
            "Model-3 | CONV1D_GLOVE_100:['politics']\n",
            "Model-4 | CONV1D_GLOVE_300:['tech']\n",
            "------------------------------------------------------------------------------------------\n"
          ],
          "name": "stdout"
        }
      ]
    },
    {
      "cell_type": "markdown",
      "metadata": {
        "id": "5xyIyBbt2QP7",
        "colab_type": "text"
      },
      "source": [
        "## 7. Recomendations\n",
        "\n",
        "\n",
        "Combining model architectures with proven success in text classification with pre-trained word-embeddings seems to be good enough to approach our project tasks with the minimum accuracy expected by our stakeholders. \n",
        "\n",
        "Even considering the small number of samples used in the training data set,  and the generic classes used in the ground truth provided, the sum of LSTMs, convolutions, and Glove, produced the desired result. \n",
        "\n",
        "We recommend continuing with a more elaborated implementation, using at list the architecture defined by models 3 and 4. \n",
        "Some manual labeling would be needed though, but we suggest to put our focus on: \n",
        "- Keep the dataset balanced between cases \n",
        "- Design more concrete, more relevant labels \n",
        "- Produce a similar number of cases for training and validation\n",
        "- Combine the training dataset with pre-trained embeddings \n",
        "\n"
      ]
    }
  ]
}
